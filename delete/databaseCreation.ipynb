{
 "cells": [
  {
   "cell_type": "markdown",
   "metadata": {},
   "source": [
    "## Create a MySQL database ##"
   ]
  },
  {
   "cell_type": "code",
   "execution_count": 3,
   "metadata": {},
   "outputs": [],
   "source": [
    "try:\n",
    "    import mysql.connector\n",
    "except ImportError:\n",
    "    %pip install mysql-connector-python\n",
    "    import mysql.connector"
   ]
  },
  {
   "cell_type": "code",
   "execution_count": 51,
   "metadata": {},
   "outputs": [
    {
     "data": {
      "text/plain": [
       "['2023-11-25T04:02:47.056982Z 0 [System] [MY-010116] [Server] C:\\\\Program Files\\\\MySQL\\\\MySQL Server 8.0\\\\bin\\\\mysqld.exe (mysqld 8.0.33) starting as process 28556',\n",
       " \"2023-11-25T04:02:47.060485Z 0 [Warning] [MY-010091] [Server] Can't create test file C:\\\\Program Files\\\\MySQL\\\\MySQL Server 8.0\\\\data\\\\mysqld_tmp_file_case_insensitive_test.lower-test\",\n",
       " \"2023-11-25T04:02:47.060658Z 0 [Warning] [MY-010091] [Server] Can't create test file C:\\\\Program Files\\\\MySQL\\\\MySQL Server 8.0\\\\data\\\\mysqld_tmp_file_case_insensitive_test.lower-test\",\n",
       " \"2023-11-25T04:02:47.060965Z 0 [ERROR] [MY-013276] [Server] Failed to set datadir to 'C:\\\\Program Files\\\\MySQL\\\\MySQL Server 8.0\\\\data\\\\' (OS errno: 2 - No such file or directory)\",\n",
       " '2023-11-25T04:02:47.061031Z 0 [ERROR] [MY-010119] [Server] Aborting',\n",
       " '2023-11-25T04:02:47.061304Z 0 [System] [MY-010910] [Server] C:\\\\Program Files\\\\MySQL\\\\MySQL Server 8.0\\\\bin\\\\mysqld.exe: Shutdown complete (mysqld 8.0.33)  MySQL Community Server - GPL.']"
      ]
     },
     "execution_count": 51,
     "metadata": {},
     "output_type": "execute_result"
    }
   ],
   "source": [
    "# Run this cell\n",
    "%system mysqld --skip-grant-tables--skip-networking"
   ]
  },
  {
   "cell_type": "code",
   "execution_count": 49,
   "metadata": {},
   "outputs": [
    {
     "name": "stdout",
     "output_type": "stream",
     "text": [
      "C:\\Program Files\\MySQL\\MySQL Server 8.0\\bin\n"
     ]
    },
    {
     "name": "stderr",
     "output_type": "stream",
     "text": [
      "C:\\Users\\l\\AppData\\Local\\Packages\\PythonSoftwareFoundation.Python.3.11_qbz5n2kfra8p0\\LocalCache\\local-packages\\Python311\\site-packages\\IPython\\core\\magics\\osm.py:417: UserWarning: using dhist requires you to install the `pickleshare` library.\n",
      "  self.shell.db['dhist'] = compress_dhist(dhist)[-100:]\n"
     ]
    }
   ],
   "source": [
    "\n",
    "cd C:\\Program Files\\MySQL\\MySQL Server 8.0\\bin"
   ]
  }
 ],
 "metadata": {
  "kernelspec": {
   "display_name": "Python 3",
   "language": "python",
   "name": "python3"
  },
  "language_info": {
   "codemirror_mode": {
    "name": "ipython",
    "version": 3
   },
   "file_extension": ".py",
   "mimetype": "text/x-python",
   "name": "python",
   "nbconvert_exporter": "python",
   "pygments_lexer": "ipython3",
   "version": "3.11.6"
  }
 },
 "nbformat": 4,
 "nbformat_minor": 2
}
