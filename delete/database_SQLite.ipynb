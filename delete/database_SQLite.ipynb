{
 "cells": [
  {
   "cell_type": "markdown",
   "metadata": {},
   "source": [
    "# Create SQLite Database and Tables #"
   ]
  },
  {
   "cell_type": "code",
   "execution_count": 74,
   "metadata": {},
   "outputs": [
    {
     "ename": "SyntaxError",
     "evalue": "invalid syntax (1647576822.py, line 1)",
     "output_type": "error",
     "traceback": [
      "\u001b[1;36m  Cell \u001b[1;32mIn[74], line 1\u001b[1;36m\u001b[0m\n\u001b[1;33m    import sqlite 3\u001b[0m\n\u001b[1;37m                  ^\u001b[0m\n\u001b[1;31mSyntaxError\u001b[0m\u001b[1;31m:\u001b[0m invalid syntax\n"
     ]
    }
   ],
   "source": [
    "import sqlite 3"
   ]
  },
  {
   "cell_type": "code",
   "execution_count": 79,
   "metadata": {},
   "outputs": [],
   "source": [
    "#Connect to the Database:\n",
    "    #Use the connect method to create a connection to the SQLite database file. If the file doesn't exist, it will be created.\n",
    "connection = sqlite3.connect('db_expenseAI.db')"
   ]
  },
  {
   "cell_type": "code",
   "execution_count": null,
   "metadata": {},
   "outputs": [],
   "source": [
    "#Create a dbcon:\n",
    "#A dbcon is used to execute SQL commands and fetch results.\n",
    "dbcon = connection.cursor()"
   ]
  },
  {
   "cell_type": "code",
   "execution_count": null,
   "metadata": {},
   "outputs": [
    {
     "data": {
      "text/plain": [
       "<sqlite3.Cursor at 0x162f9732cc0>"
      ]
     },
     "execution_count": 52,
     "metadata": {},
     "output_type": "execute_result"
    }
   ],
   "source": [
    "#create Projects table\n",
    "dbcon.execute('''\n",
    "    CREATE TABLE IF NOT EXISTS Projects (\n",
    "        PROJECTID TEXT PRIMARY KEY,\n",
    "        PROJECTNAME TEXT,\n",
    "        ProjectDuration_startDate TEXT,\n",
    "        ProjectDuration_endDate TEXT,\n",
    "        ProjectBudget NUMBER\n",
    "    )\n",
    "''')"
   ]
  },
  {
   "cell_type": "code",
   "execution_count": null,
   "metadata": {},
   "outputs": [
    {
     "data": {
      "text/plain": [
       "<sqlite3.Cursor at 0x162f9732cc0>"
      ]
     },
     "execution_count": 53,
     "metadata": {},
     "output_type": "execute_result"
    }
   ],
   "source": [
    "# Create Employees table\n",
    "dbcon.execute('''\n",
    "    CREATE TABLE IF NOT EXISTS Employees (\n",
    "        EmployeeID TEXT PRIMARY KEY,\n",
    "        EmployeeName TEXT,\n",
    "        EmployeeDepartment TEXT\n",
    "    )\n",
    "''')"
   ]
  },
  {
   "cell_type": "code",
   "execution_count": null,
   "metadata": {
    "vscode": {
     "languageId": "sql"
    }
   },
   "outputs": [
    {
     "data": {
      "text/plain": [
       "<sqlite3.Cursor at 0x162f9732cc0>"
      ]
     },
     "execution_count": 65,
     "metadata": {},
     "output_type": "execute_result"
    }
   ],
   "source": [
    "# Create ProjectEmployeeRelation table\n",
    "dbcon.execute('''\n",
    "    CREATE TABLE IF NOT EXISTS ProjectEmployeesRelation (\n",
    "        ProjectID TEXT,\n",
    "        EmployeeID TEXT,\n",
    "        FOREIGN KEY (ProjectID) REFERENCES Projects(ProjectID),\n",
    "        FOREIGN KEY (EmployeeID) REFERENCES Employees(EmployeeID),\n",
    "        PRIMARY KEY (ProjectID, EmployeeID)   \n",
    "    )\n",
    "''')"
   ]
  },
  {
   "cell_type": "code",
   "execution_count": null,
   "metadata": {},
   "outputs": [
    {
     "data": {
      "text/plain": [
       "<sqlite3.Cursor at 0x162f9732cc0>"
      ]
     },
     "execution_count": 63,
     "metadata": {},
     "output_type": "execute_result"
    }
   ],
   "source": [
    "#create table reimbursement request Records\n",
    "dbcon.execute('''\n",
    "    CREATE TABLE IF NOT EXISTS ReimbursementRequestRecords (\n",
    "        RecordID TEXT PRIMARY KEY,\n",
    "        EmployeeID TEXT,\n",
    "        ProjectID TEXT,\n",
    "        ExpenseCategory TEXT,\n",
    "        SubmissionDate TEXT,\n",
    "        InvoiceDate TEXT,\n",
    "        InvoiceID TEXT,\n",
    "        InvoiceAmount TEXT,\n",
    "\n",
    "        FOREIGN KEY (ProjectID) REFERENCES Projects(ProjectID),\n",
    "        FOREIGN KEY (EmployeeID) REFERENCES Employees(EmployeeID)\n",
    "        \n",
    "    )\n",
    "''')"
   ]
  },
  {
   "cell_type": "code",
   "execution_count": null,
   "metadata": {},
   "outputs": [],
   "source": [
    "# Commit the changes\n",
    "connection.commit()\n"
   ]
  },
  {
   "cell_type": "code",
   "execution_count": null,
   "metadata": {},
   "outputs": [
    {
     "ename": "IntegrityError",
     "evalue": "UNIQUE constraint failed: ReimbursementRequestRecords.RecordID",
     "output_type": "error",
     "traceback": [
      "\u001b[1;31m---------------------------------------------------------------------------\u001b[0m",
      "\u001b[1;31mIntegrityError\u001b[0m                            Traceback (most recent call last)",
      "\u001b[1;32mc:\\Users\\l\\individual-ivwangYW\\5100CS_Group_Final_Project_Expense-AI\\database_SQLite.ipynb Cell 10\u001b[0m line \u001b[0;36m3\n\u001b[0;32m      <a href='vscode-notebook-cell:/c%3A/Users/l/individual-ivwangYW/5100CS_Group_Final_Project_Expense-AI/database_SQLite.ipynb#X30sZmlsZQ%3D%3D?line=0'>1</a>\u001b[0m \u001b[39m# Insert Historical Data #\u001b[39;00m\n\u001b[0;32m      <a href='vscode-notebook-cell:/c%3A/Users/l/individual-ivwangYW/5100CS_Group_Final_Project_Expense-AI/database_SQLite.ipynb#X30sZmlsZQ%3D%3D?line=1'>2</a>\u001b[0m \u001b[39m# Insert data into ReimbursementRequestRecords table\u001b[39;00m\n\u001b[1;32m----> <a href='vscode-notebook-cell:/c%3A/Users/l/individual-ivwangYW/5100CS_Group_Final_Project_Expense-AI/database_SQLite.ipynb#X30sZmlsZQ%3D%3D?line=2'>3</a>\u001b[0m dbcon\u001b[39m.\u001b[39;49mexecute(\u001b[39m'''\u001b[39;49m\n\u001b[0;32m      <a href='vscode-notebook-cell:/c%3A/Users/l/individual-ivwangYW/5100CS_Group_Final_Project_Expense-AI/database_SQLite.ipynb#X30sZmlsZQ%3D%3D?line=3'>4</a>\u001b[0m \u001b[39m    INSERT INTO ReimbursementRequestRecords \u001b[39;49m\n\u001b[0;32m      <a href='vscode-notebook-cell:/c%3A/Users/l/individual-ivwangYW/5100CS_Group_Final_Project_Expense-AI/database_SQLite.ipynb#X30sZmlsZQ%3D%3D?line=4'>5</a>\u001b[0m \u001b[39m    (RecordID, EmployeeID, ProjectID, ExpenseCategory, SubmissionDate, InvoiceDate, InvoiceID, InvoiceAmount)\u001b[39;49m\n\u001b[0;32m      <a href='vscode-notebook-cell:/c%3A/Users/l/individual-ivwangYW/5100CS_Group_Final_Project_Expense-AI/database_SQLite.ipynb#X30sZmlsZQ%3D%3D?line=5'>6</a>\u001b[0m \u001b[39m    VALUES \u001b[39;49m\n\u001b[0;32m      <a href='vscode-notebook-cell:/c%3A/Users/l/individual-ivwangYW/5100CS_Group_Final_Project_Expense-AI/database_SQLite.ipynb#X30sZmlsZQ%3D%3D?line=6'>7</a>\u001b[0m \u001b[39m    (\u001b[39;49m\u001b[39m'\u001b[39;49m\u001b[39mR000001\u001b[39;49m\u001b[39m'\u001b[39;49m\u001b[39m, \u001b[39;49m\u001b[39m'\u001b[39;49m\u001b[39mE000001\u001b[39;49m\u001b[39m'\u001b[39;49m\u001b[39m, \u001b[39;49m\u001b[39m'\u001b[39;49m\u001b[39mP000001\u001b[39;49m\u001b[39m'\u001b[39;49m\u001b[39m, \u001b[39;49m\u001b[39m'\u001b[39;49m\u001b[39mTravel\u001b[39;49m\u001b[39m'\u001b[39;49m\u001b[39m, \u001b[39;49m\u001b[39m'\u001b[39;49m\u001b[39m2020-01-20\u001b[39;49m\u001b[39m'\u001b[39;49m\u001b[39m, \u001b[39;49m\u001b[39m'\u001b[39;49m\u001b[39m2020-01-15\u001b[39;49m\u001b[39m'\u001b[39;49m\u001b[39m, \u001b[39;49m\u001b[39m'\u001b[39;49m\u001b[39mINV001\u001b[39;49m\u001b[39m'\u001b[39;49m\u001b[39m, \u001b[39;49m\u001b[39m'\u001b[39;49m\u001b[39m500.00\u001b[39;49m\u001b[39m'\u001b[39;49m\u001b[39m),\u001b[39;49m\n\u001b[0;32m      <a href='vscode-notebook-cell:/c%3A/Users/l/individual-ivwangYW/5100CS_Group_Final_Project_Expense-AI/database_SQLite.ipynb#X30sZmlsZQ%3D%3D?line=7'>8</a>\u001b[0m \u001b[39m    (\u001b[39;49m\u001b[39m'\u001b[39;49m\u001b[39mR000002\u001b[39;49m\u001b[39m'\u001b[39;49m\u001b[39m, \u001b[39;49m\u001b[39m'\u001b[39;49m\u001b[39mE000002\u001b[39;49m\u001b[39m'\u001b[39;49m\u001b[39m, \u001b[39;49m\u001b[39m'\u001b[39;49m\u001b[39mP000002\u001b[39;49m\u001b[39m'\u001b[39;49m\u001b[39m, \u001b[39;49m\u001b[39m'\u001b[39;49m\u001b[39mPhone & Internet\u001b[39;49m\u001b[39m'\u001b[39;49m\u001b[39m, \u001b[39;49m\u001b[39m'\u001b[39;49m\u001b[39m2020-01-22\u001b[39;49m\u001b[39m'\u001b[39;49m\u001b[39m, \u001b[39;49m\u001b[39m'\u001b[39;49m\u001b[39m2020-01-16\u001b[39;49m\u001b[39m'\u001b[39;49m\u001b[39m, \u001b[39;49m\u001b[39m'\u001b[39;49m\u001b[39mB00DG2\u001b[39;49m\u001b[39m'\u001b[39;49m\u001b[39m, \u001b[39;49m\u001b[39m'\u001b[39;49m\u001b[39m150.00\u001b[39;49m\u001b[39m'\u001b[39;49m\u001b[39m),\u001b[39;49m\n\u001b[0;32m      <a href='vscode-notebook-cell:/c%3A/Users/l/individual-ivwangYW/5100CS_Group_Final_Project_Expense-AI/database_SQLite.ipynb#X30sZmlsZQ%3D%3D?line=8'>9</a>\u001b[0m \u001b[39m    (\u001b[39;49m\u001b[39m'\u001b[39;49m\u001b[39mR000003\u001b[39;49m\u001b[39m'\u001b[39;49m\u001b[39m, \u001b[39;49m\u001b[39m'\u001b[39;49m\u001b[39mE000002\u001b[39;49m\u001b[39m'\u001b[39;49m\u001b[39m, \u001b[39;49m\u001b[39m'\u001b[39;49m\u001b[39mP000002\u001b[39;49m\u001b[39m'\u001b[39;49m\u001b[39m, \u001b[39;49m\u001b[39m'\u001b[39;49m\u001b[39mPhone & Internet\u001b[39;49m\u001b[39m'\u001b[39;49m\u001b[39m, \u001b[39;49m\u001b[39m'\u001b[39;49m\u001b[39m2020-02-22\u001b[39;49m\u001b[39m'\u001b[39;49m\u001b[39m,\u001b[39;49m\u001b[39m'\u001b[39;49m\u001b[39m2020-02-16\u001b[39;49m\u001b[39m'\u001b[39;49m\u001b[39m, \u001b[39;49m\u001b[39m'\u001b[39;49m\u001b[39mB94859\u001b[39;49m\u001b[39m'\u001b[39;49m\u001b[39m,\u001b[39;49m\u001b[39m'\u001b[39;49m\u001b[39m150.00\u001b[39;49m\u001b[39m'\u001b[39;49m\u001b[39m),\u001b[39;49m\n\u001b[0;32m     <a href='vscode-notebook-cell:/c%3A/Users/l/individual-ivwangYW/5100CS_Group_Final_Project_Expense-AI/database_SQLite.ipynb#X30sZmlsZQ%3D%3D?line=9'>10</a>\u001b[0m \u001b[39m    (\u001b[39;49m\u001b[39m'\u001b[39;49m\u001b[39mR000004\u001b[39;49m\u001b[39m'\u001b[39;49m\u001b[39m, \u001b[39;49m\u001b[39m'\u001b[39;49m\u001b[39mE000002\u001b[39;49m\u001b[39m'\u001b[39;49m\u001b[39m, \u001b[39;49m\u001b[39m'\u001b[39;49m\u001b[39mP000002\u001b[39;49m\u001b[39m'\u001b[39;49m\u001b[39m, \u001b[39;49m\u001b[39m'\u001b[39;49m\u001b[39mPhone & Internet\u001b[39;49m\u001b[39m'\u001b[39;49m\u001b[39m, \u001b[39;49m\u001b[39m'\u001b[39;49m\u001b[39m2020-03-25\u001b[39;49m\u001b[39m'\u001b[39;49m\u001b[39m,\u001b[39;49m\u001b[39m'\u001b[39;49m\u001b[39m2020-03-16\u001b[39;49m\u001b[39m'\u001b[39;49m\u001b[39m, \u001b[39;49m\u001b[39m'\u001b[39;49m\u001b[39mB92359\u001b[39;49m\u001b[39m'\u001b[39;49m\u001b[39m,\u001b[39;49m\u001b[39m'\u001b[39;49m\u001b[39m150.56\u001b[39;49m\u001b[39m'\u001b[39;49m\u001b[39m),\u001b[39;49m\n\u001b[0;32m     <a href='vscode-notebook-cell:/c%3A/Users/l/individual-ivwangYW/5100CS_Group_Final_Project_Expense-AI/database_SQLite.ipynb#X30sZmlsZQ%3D%3D?line=10'>11</a>\u001b[0m \u001b[39m    (\u001b[39;49m\u001b[39m'\u001b[39;49m\u001b[39mR000005\u001b[39;49m\u001b[39m'\u001b[39;49m\u001b[39m, \u001b[39;49m\u001b[39m'\u001b[39;49m\u001b[39mE000002\u001b[39;49m\u001b[39m'\u001b[39;49m\u001b[39m, \u001b[39;49m\u001b[39m'\u001b[39;49m\u001b[39mP000002\u001b[39;49m\u001b[39m'\u001b[39;49m\u001b[39m, \u001b[39;49m\u001b[39m'\u001b[39;49m\u001b[39mPhone & Internet\u001b[39;49m\u001b[39m'\u001b[39;49m\u001b[39m, \u001b[39;49m\u001b[39m'\u001b[39;49m\u001b[39m2020-06-20\u001b[39;49m\u001b[39m'\u001b[39;49m\u001b[39m,\u001b[39;49m\u001b[39m'\u001b[39;49m\u001b[39m2020-04-16\u001b[39;49m\u001b[39m'\u001b[39;49m\u001b[39m, \u001b[39;49m\u001b[39m'\u001b[39;49m\u001b[39mB92450\u001b[39;49m\u001b[39m'\u001b[39;49m\u001b[39m,\u001b[39;49m\u001b[39m'\u001b[39;49m\u001b[39m159.00\u001b[39;49m\u001b[39m'\u001b[39;49m\u001b[39m),\u001b[39;49m\n\u001b[0;32m     <a href='vscode-notebook-cell:/c%3A/Users/l/individual-ivwangYW/5100CS_Group_Final_Project_Expense-AI/database_SQLite.ipynb#X30sZmlsZQ%3D%3D?line=11'>12</a>\u001b[0m \u001b[39m    (\u001b[39;49m\u001b[39m'\u001b[39;49m\u001b[39mR000006\u001b[39;49m\u001b[39m'\u001b[39;49m\u001b[39m, \u001b[39;49m\u001b[39m'\u001b[39;49m\u001b[39mE000002\u001b[39;49m\u001b[39m'\u001b[39;49m\u001b[39m, \u001b[39;49m\u001b[39m'\u001b[39;49m\u001b[39mP000002\u001b[39;49m\u001b[39m'\u001b[39;49m\u001b[39m, \u001b[39;49m\u001b[39m'\u001b[39;49m\u001b[39mPhone & Internet\u001b[39;49m\u001b[39m'\u001b[39;49m\u001b[39m, \u001b[39;49m\u001b[39m'\u001b[39;49m\u001b[39m2020-06-20\u001b[39;49m\u001b[39m'\u001b[39;49m\u001b[39m,\u001b[39;49m\u001b[39m'\u001b[39;49m\u001b[39m2020-05-16\u001b[39;49m\u001b[39m'\u001b[39;49m\u001b[39m, \u001b[39;49m\u001b[39m'\u001b[39;49m\u001b[39mB92399\u001b[39;49m\u001b[39m'\u001b[39;49m\u001b[39m,\u001b[39;49m\u001b[39m'\u001b[39;49m\u001b[39m159.00\u001b[39;49m\u001b[39m'\u001b[39;49m\u001b[39m),\u001b[39;49m\n\u001b[0;32m     <a href='vscode-notebook-cell:/c%3A/Users/l/individual-ivwangYW/5100CS_Group_Final_Project_Expense-AI/database_SQLite.ipynb#X30sZmlsZQ%3D%3D?line=12'>13</a>\u001b[0m \u001b[39m    (\u001b[39;49m\u001b[39m'\u001b[39;49m\u001b[39mR000007\u001b[39;49m\u001b[39m'\u001b[39;49m\u001b[39m, \u001b[39;49m\u001b[39m'\u001b[39;49m\u001b[39mE000435\u001b[39;49m\u001b[39m'\u001b[39;49m\u001b[39m, \u001b[39;49m\u001b[39m'\u001b[39;49m\u001b[39mP000005\u001b[39;49m\u001b[39m'\u001b[39;49m\u001b[39m, \u001b[39;49m\u001b[39m'\u001b[39;49m\u001b[39mPhone & Internet\u001b[39;49m\u001b[39m'\u001b[39;49m\u001b[39m, \u001b[39;49m\u001b[39m'\u001b[39;49m\u001b[39m2020-06-21\u001b[39;49m\u001b[39m'\u001b[39;49m\u001b[39m,\u001b[39;49m\u001b[39m'\u001b[39;49m\u001b[39m2020-05-19\u001b[39;49m\u001b[39m'\u001b[39;49m\u001b[39m, \u001b[39;49m\u001b[39m'\u001b[39;49m\u001b[39mB92300\u001b[39;49m\u001b[39m'\u001b[39;49m\u001b[39m,\u001b[39;49m\u001b[39m'\u001b[39;49m\u001b[39m159.00\u001b[39;49m\u001b[39m'\u001b[39;49m\u001b[39m),\u001b[39;49m\n\u001b[0;32m     <a href='vscode-notebook-cell:/c%3A/Users/l/individual-ivwangYW/5100CS_Group_Final_Project_Expense-AI/database_SQLite.ipynb#X30sZmlsZQ%3D%3D?line=13'>14</a>\u001b[0m \u001b[39m    (\u001b[39;49m\u001b[39m'\u001b[39;49m\u001b[39mR000008\u001b[39;49m\u001b[39m'\u001b[39;49m\u001b[39m, \u001b[39;49m\u001b[39m'\u001b[39;49m\u001b[39mE000435\u001b[39;49m\u001b[39m'\u001b[39;49m\u001b[39m, \u001b[39;49m\u001b[39m'\u001b[39;49m\u001b[39mP000005\u001b[39;49m\u001b[39m'\u001b[39;49m\u001b[39m, \u001b[39;49m\u001b[39m'\u001b[39;49m\u001b[39mPhone & Internet\u001b[39;49m\u001b[39m'\u001b[39;49m\u001b[39m, \u001b[39;49m\u001b[39m'\u001b[39;49m\u001b[39m2020-07-21\u001b[39;49m\u001b[39m'\u001b[39;49m\u001b[39m,\u001b[39;49m\u001b[39m'\u001b[39;49m\u001b[39m2020-06-19\u001b[39;49m\u001b[39m'\u001b[39;49m\u001b[39m, \u001b[39;49m\u001b[39m'\u001b[39;49m\u001b[39mB92310\u001b[39;49m\u001b[39m'\u001b[39;49m\u001b[39m,\u001b[39;49m\u001b[39m'\u001b[39;49m\u001b[39m159.00\u001b[39;49m\u001b[39m'\u001b[39;49m\u001b[39m),\u001b[39;49m\n\u001b[0;32m     <a href='vscode-notebook-cell:/c%3A/Users/l/individual-ivwangYW/5100CS_Group_Final_Project_Expense-AI/database_SQLite.ipynb#X30sZmlsZQ%3D%3D?line=14'>15</a>\u001b[0m \u001b[39m    (\u001b[39;49m\u001b[39m'\u001b[39;49m\u001b[39mR000009\u001b[39;49m\u001b[39m'\u001b[39;49m\u001b[39m, \u001b[39;49m\u001b[39m'\u001b[39;49m\u001b[39mE000435\u001b[39;49m\u001b[39m'\u001b[39;49m\u001b[39m, \u001b[39;49m\u001b[39m'\u001b[39;49m\u001b[39mP000005\u001b[39;49m\u001b[39m'\u001b[39;49m\u001b[39m, \u001b[39;49m\u001b[39m'\u001b[39;49m\u001b[39mPhone & Internet\u001b[39;49m\u001b[39m'\u001b[39;49m\u001b[39m, \u001b[39;49m\u001b[39m'\u001b[39;49m\u001b[39m2020-08-25\u001b[39;49m\u001b[39m'\u001b[39;49m\u001b[39m,\u001b[39;49m\u001b[39m'\u001b[39;49m\u001b[39m2020-07-19\u001b[39;49m\u001b[39m'\u001b[39;49m\u001b[39m, \u001b[39;49m\u001b[39m'\u001b[39;49m\u001b[39mB92314\u001b[39;49m\u001b[39m'\u001b[39;49m\u001b[39m,\u001b[39;49m\u001b[39m'\u001b[39;49m\u001b[39m159.00\u001b[39;49m\u001b[39m'\u001b[39;49m\u001b[39m),\u001b[39;49m\n\u001b[0;32m     <a href='vscode-notebook-cell:/c%3A/Users/l/individual-ivwangYW/5100CS_Group_Final_Project_Expense-AI/database_SQLite.ipynb#X30sZmlsZQ%3D%3D?line=15'>16</a>\u001b[0m \u001b[39m    (\u001b[39;49m\u001b[39m'\u001b[39;49m\u001b[39mR000010\u001b[39;49m\u001b[39m'\u001b[39;49m\u001b[39m, \u001b[39;49m\u001b[39m'\u001b[39;49m\u001b[39mE000435\u001b[39;49m\u001b[39m'\u001b[39;49m\u001b[39m, \u001b[39;49m\u001b[39m'\u001b[39;49m\u001b[39mP000005\u001b[39;49m\u001b[39m'\u001b[39;49m\u001b[39m, \u001b[39;49m\u001b[39m'\u001b[39;49m\u001b[39mPhone & Internet\u001b[39;49m\u001b[39m'\u001b[39;49m\u001b[39m, \u001b[39;49m\u001b[39m'\u001b[39;49m\u001b[39m2020-09-21\u001b[39;49m\u001b[39m'\u001b[39;49m\u001b[39m,\u001b[39;49m\u001b[39m'\u001b[39;49m\u001b[39m2020-08-19\u001b[39;49m\u001b[39m'\u001b[39;49m\u001b[39m, \u001b[39;49m\u001b[39m'\u001b[39;49m\u001b[39mB92318\u001b[39;49m\u001b[39m'\u001b[39;49m\u001b[39m,\u001b[39;49m\u001b[39m'\u001b[39;49m\u001b[39m159.00\u001b[39;49m\u001b[39m'\u001b[39;49m\u001b[39m),\u001b[39;49m\n\u001b[0;32m     <a href='vscode-notebook-cell:/c%3A/Users/l/individual-ivwangYW/5100CS_Group_Final_Project_Expense-AI/database_SQLite.ipynb#X30sZmlsZQ%3D%3D?line=16'>17</a>\u001b[0m \u001b[39m    (\u001b[39;49m\u001b[39m'\u001b[39;49m\u001b[39mR000011\u001b[39;49m\u001b[39m'\u001b[39;49m\u001b[39m, \u001b[39;49m\u001b[39m'\u001b[39;49m\u001b[39mE000435\u001b[39;49m\u001b[39m'\u001b[39;49m\u001b[39m, \u001b[39;49m\u001b[39m'\u001b[39;49m\u001b[39mP000005\u001b[39;49m\u001b[39m'\u001b[39;49m\u001b[39m, \u001b[39;49m\u001b[39m'\u001b[39;49m\u001b[39mPhone & Internet\u001b[39;49m\u001b[39m'\u001b[39;49m\u001b[39m, \u001b[39;49m\u001b[39m'\u001b[39;49m\u001b[39m2020-10-20\u001b[39;49m\u001b[39m'\u001b[39;49m\u001b[39m,\u001b[39;49m\u001b[39m'\u001b[39;49m\u001b[39m2020-09-19\u001b[39;49m\u001b[39m'\u001b[39;49m\u001b[39m, \u001b[39;49m\u001b[39m'\u001b[39;49m\u001b[39mB92350\u001b[39;49m\u001b[39m'\u001b[39;49m\u001b[39m,\u001b[39;49m\u001b[39m'\u001b[39;49m\u001b[39m159.00\u001b[39;49m\u001b[39m'\u001b[39;49m\u001b[39m),\u001b[39;49m\n\u001b[0;32m     <a href='vscode-notebook-cell:/c%3A/Users/l/individual-ivwangYW/5100CS_Group_Final_Project_Expense-AI/database_SQLite.ipynb#X30sZmlsZQ%3D%3D?line=17'>18</a>\u001b[0m \u001b[39m    (\u001b[39;49m\u001b[39m'\u001b[39;49m\u001b[39mR000012\u001b[39;49m\u001b[39m'\u001b[39;49m\u001b[39m, \u001b[39;49m\u001b[39m'\u001b[39;49m\u001b[39mE000435\u001b[39;49m\u001b[39m'\u001b[39;49m\u001b[39m, \u001b[39;49m\u001b[39m'\u001b[39;49m\u001b[39mP000005\u001b[39;49m\u001b[39m'\u001b[39;49m\u001b[39m, \u001b[39;49m\u001b[39m'\u001b[39;49m\u001b[39mPhone & Internet\u001b[39;49m\u001b[39m'\u001b[39;49m\u001b[39m, \u001b[39;49m\u001b[39m'\u001b[39;49m\u001b[39m2020-11-20\u001b[39;49m\u001b[39m'\u001b[39;49m\u001b[39m, \u001b[39;49m\u001b[39m'\u001b[39;49m\u001b[39m2020-10-19\u001b[39;49m\u001b[39m'\u001b[39;49m\u001b[39m, \u001b[39;49m\u001b[39m'\u001b[39;49m\u001b[39mB9600\u001b[39;49m\u001b[39m'\u001b[39;49m\u001b[39m,\u001b[39;49m\n\u001b[0;32m     <a href='vscode-notebook-cell:/c%3A/Users/l/individual-ivwangYW/5100CS_Group_Final_Project_Expense-AI/database_SQLite.ipynb#X30sZmlsZQ%3D%3D?line=18'>19</a>\u001b[0m \u001b[39m    \u001b[39;49m\u001b[39m'\u001b[39;49m\u001b[39m159.00\u001b[39;49m\u001b[39m'\u001b[39;49m\u001b[39m),\u001b[39;49m\n\u001b[0;32m     <a href='vscode-notebook-cell:/c%3A/Users/l/individual-ivwangYW/5100CS_Group_Final_Project_Expense-AI/database_SQLite.ipynb#X30sZmlsZQ%3D%3D?line=19'>20</a>\u001b[0m \u001b[39m    (\u001b[39;49m\u001b[39m'\u001b[39;49m\u001b[39mR000013\u001b[39;49m\u001b[39m'\u001b[39;49m\u001b[39m, \u001b[39;49m\u001b[39m'\u001b[39;49m\u001b[39mE000435\u001b[39;49m\u001b[39m'\u001b[39;49m\u001b[39m, \u001b[39;49m\u001b[39m'\u001b[39;49m\u001b[39mP000005\u001b[39;49m\u001b[39m'\u001b[39;49m\u001b[39m, \u001b[39;49m\u001b[39m'\u001b[39;49m\u001b[39mPhone & Internet\u001b[39;49m\u001b[39m'\u001b[39;49m\u001b[39m, \u001b[39;49m\u001b[39m'\u001b[39;49m\u001b[39m2021-01-20\u001b[39;49m\u001b[39m'\u001b[39;49m\u001b[39m, \u001b[39;49m\u001b[39m'\u001b[39;49m\u001b[39m2020-11-19\u001b[39;49m\u001b[39m'\u001b[39;49m\u001b[39m, \u001b[39;49m\u001b[39m'\u001b[39;49m\u001b[39mB9605\u001b[39;49m\u001b[39m'\u001b[39;49m\u001b[39m,\u001b[39;49m\n\u001b[0;32m     <a href='vscode-notebook-cell:/c%3A/Users/l/individual-ivwangYW/5100CS_Group_Final_Project_Expense-AI/database_SQLite.ipynb#X30sZmlsZQ%3D%3D?line=20'>21</a>\u001b[0m \u001b[39m    \u001b[39;49m\u001b[39m'\u001b[39;49m\u001b[39m168.00\u001b[39;49m\u001b[39m'\u001b[39;49m\u001b[39m),\u001b[39;49m\n\u001b[0;32m     <a href='vscode-notebook-cell:/c%3A/Users/l/individual-ivwangYW/5100CS_Group_Final_Project_Expense-AI/database_SQLite.ipynb#X30sZmlsZQ%3D%3D?line=21'>22</a>\u001b[0m \u001b[39m    (\u001b[39;49m\u001b[39m'\u001b[39;49m\u001b[39mR000014\u001b[39;49m\u001b[39m'\u001b[39;49m\u001b[39m, \u001b[39;49m\u001b[39m'\u001b[39;49m\u001b[39mE000435\u001b[39;49m\u001b[39m'\u001b[39;49m\u001b[39m, \u001b[39;49m\u001b[39m'\u001b[39;49m\u001b[39mP000005\u001b[39;49m\u001b[39m'\u001b[39;49m\u001b[39m, \u001b[39;49m\u001b[39m'\u001b[39;49m\u001b[39mPhone & Internet\u001b[39;49m\u001b[39m'\u001b[39;49m\u001b[39m, \u001b[39;49m\u001b[39m'\u001b[39;49m\u001b[39m2021-02-21\u001b[39;49m\u001b[39m'\u001b[39;49m\u001b[39m, \u001b[39;49m\u001b[39m'\u001b[39;49m\u001b[39m2020-12-19\u001b[39;49m\u001b[39m'\u001b[39;49m\u001b[39m, \u001b[39;49m\u001b[39m'\u001b[39;49m\u001b[39mB9610\u001b[39;49m\u001b[39m'\u001b[39;49m\u001b[39m,\u001b[39;49m\n\u001b[0;32m     <a href='vscode-notebook-cell:/c%3A/Users/l/individual-ivwangYW/5100CS_Group_Final_Project_Expense-AI/database_SQLite.ipynb#X30sZmlsZQ%3D%3D?line=22'>23</a>\u001b[0m \u001b[39m    \u001b[39;49m\u001b[39m'\u001b[39;49m\u001b[39m169.00\u001b[39;49m\u001b[39m'\u001b[39;49m\u001b[39m),\u001b[39;49m\n\u001b[0;32m     <a href='vscode-notebook-cell:/c%3A/Users/l/individual-ivwangYW/5100CS_Group_Final_Project_Expense-AI/database_SQLite.ipynb#X30sZmlsZQ%3D%3D?line=23'>24</a>\u001b[0m \u001b[39m    (\u001b[39;49m\u001b[39m'\u001b[39;49m\u001b[39mR000015\u001b[39;49m\u001b[39m'\u001b[39;49m\u001b[39m, \u001b[39;49m\u001b[39m'\u001b[39;49m\u001b[39mE000435\u001b[39;49m\u001b[39m'\u001b[39;49m\u001b[39m, \u001b[39;49m\u001b[39m'\u001b[39;49m\u001b[39mP000006\u001b[39;49m\u001b[39m'\u001b[39;49m\u001b[39m, \u001b[39;49m\u001b[39m'\u001b[39;49m\u001b[39mPhone & Internet\u001b[39;49m\u001b[39m'\u001b[39;49m\u001b[39m, \u001b[39;49m\u001b[39m'\u001b[39;49m\u001b[39m2021-03-21\u001b[39;49m\u001b[39m'\u001b[39;49m\u001b[39m, \u001b[39;49m\u001b[39m'\u001b[39;49m\u001b[39m2021-01-19\u001b[39;49m\u001b[39m'\u001b[39;49m\u001b[39m, \u001b[39;49m\u001b[39m'\u001b[39;49m\u001b[39mB9611\u001b[39;49m\u001b[39m'\u001b[39;49m\u001b[39m,\u001b[39;49m\n\u001b[0;32m     <a href='vscode-notebook-cell:/c%3A/Users/l/individual-ivwangYW/5100CS_Group_Final_Project_Expense-AI/database_SQLite.ipynb#X30sZmlsZQ%3D%3D?line=24'>25</a>\u001b[0m \u001b[39m    \u001b[39;49m\u001b[39m'\u001b[39;49m\u001b[39m169.00\u001b[39;49m\u001b[39m'\u001b[39;49m\u001b[39m),\u001b[39;49m\n\u001b[0;32m     <a href='vscode-notebook-cell:/c%3A/Users/l/individual-ivwangYW/5100CS_Group_Final_Project_Expense-AI/database_SQLite.ipynb#X30sZmlsZQ%3D%3D?line=25'>26</a>\u001b[0m \u001b[39m    (\u001b[39;49m\u001b[39m'\u001b[39;49m\u001b[39mR000016\u001b[39;49m\u001b[39m'\u001b[39;49m\u001b[39m, \u001b[39;49m\u001b[39m'\u001b[39;49m\u001b[39mE000435\u001b[39;49m\u001b[39m'\u001b[39;49m\u001b[39m, \u001b[39;49m\u001b[39m'\u001b[39;49m\u001b[39mP000006\u001b[39;49m\u001b[39m'\u001b[39;49m\u001b[39m, \u001b[39;49m\u001b[39m'\u001b[39;49m\u001b[39mPhone & Internet\u001b[39;49m\u001b[39m'\u001b[39;49m\u001b[39m, \u001b[39;49m\u001b[39m'\u001b[39;49m\u001b[39m2021-04-21\u001b[39;49m\u001b[39m'\u001b[39;49m\u001b[39m, \u001b[39;49m\u001b[39m'\u001b[39;49m\u001b[39m2021-02-19\u001b[39;49m\u001b[39m'\u001b[39;49m\u001b[39m, \u001b[39;49m\u001b[39m'\u001b[39;49m\u001b[39mB9612\u001b[39;49m\u001b[39m'\u001b[39;49m\u001b[39m,\u001b[39;49m\n\u001b[0;32m     <a href='vscode-notebook-cell:/c%3A/Users/l/individual-ivwangYW/5100CS_Group_Final_Project_Expense-AI/database_SQLite.ipynb#X30sZmlsZQ%3D%3D?line=26'>27</a>\u001b[0m \u001b[39m    \u001b[39;49m\u001b[39m'\u001b[39;49m\u001b[39m169.00\u001b[39;49m\u001b[39m'\u001b[39;49m\u001b[39m),\u001b[39;49m\n\u001b[0;32m     <a href='vscode-notebook-cell:/c%3A/Users/l/individual-ivwangYW/5100CS_Group_Final_Project_Expense-AI/database_SQLite.ipynb#X30sZmlsZQ%3D%3D?line=27'>28</a>\u001b[0m \u001b[39m    (\u001b[39;49m\u001b[39m'\u001b[39;49m\u001b[39mR000017\u001b[39;49m\u001b[39m'\u001b[39;49m\u001b[39m, \u001b[39;49m\u001b[39m'\u001b[39;49m\u001b[39mE000435\u001b[39;49m\u001b[39m'\u001b[39;49m\u001b[39m, \u001b[39;49m\u001b[39m'\u001b[39;49m\u001b[39mP000006\u001b[39;49m\u001b[39m'\u001b[39;49m\u001b[39m, \u001b[39;49m\u001b[39m'\u001b[39;49m\u001b[39mPhone & Internet\u001b[39;49m\u001b[39m'\u001b[39;49m\u001b[39m, \u001b[39;49m\u001b[39m'\u001b[39;49m\u001b[39m2021-05-21\u001b[39;49m\u001b[39m'\u001b[39;49m\u001b[39m, \u001b[39;49m\u001b[39m'\u001b[39;49m\u001b[39m2021-03-19\u001b[39;49m\u001b[39m'\u001b[39;49m\u001b[39m, \u001b[39;49m\u001b[39m'\u001b[39;49m\u001b[39mB9614\u001b[39;49m\u001b[39m'\u001b[39;49m\u001b[39m,\u001b[39;49m\n\u001b[0;32m     <a href='vscode-notebook-cell:/c%3A/Users/l/individual-ivwangYW/5100CS_Group_Final_Project_Expense-AI/database_SQLite.ipynb#X30sZmlsZQ%3D%3D?line=28'>29</a>\u001b[0m \u001b[39m    \u001b[39;49m\u001b[39m'\u001b[39;49m\u001b[39m170.00\u001b[39;49m\u001b[39m'\u001b[39;49m\u001b[39m),\u001b[39;49m\n\u001b[0;32m     <a href='vscode-notebook-cell:/c%3A/Users/l/individual-ivwangYW/5100CS_Group_Final_Project_Expense-AI/database_SQLite.ipynb#X30sZmlsZQ%3D%3D?line=29'>30</a>\u001b[0m \u001b[39m    (\u001b[39;49m\u001b[39m'\u001b[39;49m\u001b[39mR000018\u001b[39;49m\u001b[39m'\u001b[39;49m\u001b[39m, \u001b[39;49m\u001b[39m'\u001b[39;49m\u001b[39mE000435\u001b[39;49m\u001b[39m'\u001b[39;49m\u001b[39m, \u001b[39;49m\u001b[39m'\u001b[39;49m\u001b[39mP000006\u001b[39;49m\u001b[39m'\u001b[39;49m\u001b[39m, \u001b[39;49m\u001b[39m'\u001b[39;49m\u001b[39mPhone & Internet\u001b[39;49m\u001b[39m'\u001b[39;49m\u001b[39m, \u001b[39;49m\u001b[39m'\u001b[39;49m\u001b[39m2021-04-21\u001b[39;49m\u001b[39m'\u001b[39;49m\u001b[39m, \u001b[39;49m\u001b[39m'\u001b[39;49m\u001b[39m2021-03-19\u001b[39;49m\u001b[39m'\u001b[39;49m\u001b[39m, \u001b[39;49m\u001b[39m'\u001b[39;49m\u001b[39mB9615\u001b[39;49m\u001b[39m'\u001b[39;49m\u001b[39m,\u001b[39;49m\n\u001b[0;32m     <a href='vscode-notebook-cell:/c%3A/Users/l/individual-ivwangYW/5100CS_Group_Final_Project_Expense-AI/database_SQLite.ipynb#X30sZmlsZQ%3D%3D?line=30'>31</a>\u001b[0m \u001b[39m    \u001b[39;49m\u001b[39m'\u001b[39;49m\u001b[39m171.00\u001b[39;49m\u001b[39m'\u001b[39;49m\u001b[39m),\u001b[39;49m\n\u001b[0;32m     <a href='vscode-notebook-cell:/c%3A/Users/l/individual-ivwangYW/5100CS_Group_Final_Project_Expense-AI/database_SQLite.ipynb#X30sZmlsZQ%3D%3D?line=31'>32</a>\u001b[0m \u001b[39m    (\u001b[39;49m\u001b[39m'\u001b[39;49m\u001b[39mR000019\u001b[39;49m\u001b[39m'\u001b[39;49m\u001b[39m, \u001b[39;49m\u001b[39m'\u001b[39;49m\u001b[39mE000435\u001b[39;49m\u001b[39m'\u001b[39;49m\u001b[39m, \u001b[39;49m\u001b[39m'\u001b[39;49m\u001b[39mP000006\u001b[39;49m\u001b[39m'\u001b[39;49m\u001b[39m, \u001b[39;49m\u001b[39m'\u001b[39;49m\u001b[39mPhone & Internet\u001b[39;49m\u001b[39m'\u001b[39;49m\u001b[39m, \u001b[39;49m\u001b[39m'\u001b[39;49m\u001b[39m2021-05-21\u001b[39;49m\u001b[39m'\u001b[39;49m\u001b[39m, \u001b[39;49m\u001b[39m'\u001b[39;49m\u001b[39m2021-04-19\u001b[39;49m\u001b[39m'\u001b[39;49m\u001b[39m, \u001b[39;49m\u001b[39m'\u001b[39;49m\u001b[39mB9620\u001b[39;49m\u001b[39m'\u001b[39;49m\u001b[39m,\u001b[39;49m\n\u001b[0;32m     <a href='vscode-notebook-cell:/c%3A/Users/l/individual-ivwangYW/5100CS_Group_Final_Project_Expense-AI/database_SQLite.ipynb#X30sZmlsZQ%3D%3D?line=32'>33</a>\u001b[0m \u001b[39m    \u001b[39;49m\u001b[39m'\u001b[39;49m\u001b[39m570.00\u001b[39;49m\u001b[39m'\u001b[39;49m\u001b[39m)\u001b[39;49m\n\u001b[0;32m     <a href='vscode-notebook-cell:/c%3A/Users/l/individual-ivwangYW/5100CS_Group_Final_Project_Expense-AI/database_SQLite.ipynb#X30sZmlsZQ%3D%3D?line=33'>34</a>\u001b[0m \u001b[39m    \u001b[39;49m\n\u001b[0;32m     <a href='vscode-notebook-cell:/c%3A/Users/l/individual-ivwangYW/5100CS_Group_Final_Project_Expense-AI/database_SQLite.ipynb#X30sZmlsZQ%3D%3D?line=34'>35</a>\u001b[0m \u001b[39m'''\u001b[39;49m)\n",
      "\u001b[1;31mIntegrityError\u001b[0m: UNIQUE constraint failed: ReimbursementRequestRecords.RecordID"
     ]
    }
   ],
   "source": [
    "# Insert Historical Data #\n",
    "# Insert data into ReimbursementRequestRecords table\n",
    "dbcon.execute('''\n",
    "    INSERT INTO ReimbursementRequestRecords \n",
    "    (RecordID, EmployeeID, ProjectID, ExpenseCategory, SubmissionDate, InvoiceDate, InvoiceID, InvoiceAmount)\n",
    "    VALUES \n",
    "    ('R000001', 'E000001', 'P000001', 'Travel', '2020-01-20', '2020-01-15', 'INV001', '500.00'),\n",
    "    ('R000002', 'E000002', 'P000002', 'Phone & Internet', '2020-01-22', '2020-01-16', 'B00DG2', '150.00'),\n",
    "    ('R000003', 'E000002', 'P000002', 'Phone & Internet', '2020-02-22','2020-02-16', 'B94859','150.00'),\n",
    "    ('R000004', 'E000002', 'P000002', 'Phone & Internet', '2020-03-25','2020-03-16', 'B92359','150.56'),\n",
    "    ('R000005', 'E000002', 'P000002', 'Phone & Internet', '2020-06-20','2020-04-16', 'B92450','159.00'),\n",
    "    ('R000006', 'E000002', 'P000002', 'Phone & Internet', '2020-06-20','2020-05-16', 'B92399','159.00'),\n",
    "    ('R000007', 'E000435', 'P000005', 'Phone & Internet', '2020-06-21','2020-05-19', 'B92300','159.00'),\n",
    "    ('R000008', 'E000435', 'P000005', 'Phone & Internet', '2020-07-21','2020-06-19', 'B92310','159.00'),\n",
    "    ('R000009', 'E000435', 'P000005', 'Phone & Internet', '2020-08-25','2020-07-19', 'B92314','159.00'),\n",
    "    ('R000010', 'E000435', 'P000005', 'Phone & Internet', '2020-09-21','2020-08-19', 'B92318','159.00'),\n",
    "    ('R000011', 'E000435', 'P000005', 'Phone & Internet', '2020-10-20','2020-09-19', 'B92350','159.00'),\n",
    "    ('R000012', 'E000435', 'P000005', 'Phone & Internet', '2020-11-20', '2020-10-19', 'B9600',\n",
    "    '159.00'),\n",
    "    ('R000013', 'E000435', 'P000005', 'Phone & Internet', '2021-01-20', '2020-11-19', 'B9605',\n",
    "    '168.00'),\n",
    "    ('R000014', 'E000435', 'P000005', 'Phone & Internet', '2021-02-21', '2020-12-19', 'B9610',\n",
    "    '169.00'),\n",
    "    ('R000015', 'E000435', 'P000006', 'Phone & Internet', '2021-03-21', '2021-01-19', 'B9611',\n",
    "    '169.00'),\n",
    "    ('R000016', 'E000435', 'P000006', 'Phone & Internet', '2021-04-21', '2021-02-19', 'B9612',\n",
    "    '169.00'),\n",
    "    ('R000017', 'E000435', 'P000006', 'Phone & Internet', '2021-05-21', '2021-03-19', 'B9614',\n",
    "    '170.00'),\n",
    "    ('R000018', 'E000435', 'P000006', 'Phone & Internet', '2021-04-21', '2021-03-19', 'B9615',\n",
    "    '171.00'),\n",
    "    ('R000019', 'E000435', 'P000006', 'Phone & Internet', '2021-05-21', '2021-04-19', 'B9620',\n",
    "    '570.00')\n",
    "    \n",
    "''')\n",
    "\n",
    "\n",
    "\n"
   ]
  },
  {
   "cell_type": "code",
   "execution_count": null,
   "metadata": {},
   "outputs": [],
   "source": [
    "# Insert data into ProjectEmployeesRelation table\n",
    "dbcon.execute('''\n",
    "    INSERT INTO ProjectEmployeesRelation (ProjectID, EmployeeID)\n",
    "    VALUES ('P000005', 'E000435'),\n",
    "           ('P000006', 'E000435'),\n",
    "           ('P000001', 'E000001'), \n",
    "           ()\n",
    "    \n",
    "''')"
   ]
  },
  {
   "cell_type": "code",
   "execution_count": 77,
   "metadata": {},
   "outputs": [
    {
     "ename": "OperationalError",
     "evalue": "near \"'), \n           ('\": syntax error",
     "output_type": "error",
     "traceback": [
      "\u001b[1;31m---------------------------------------------------------------------------\u001b[0m",
      "\u001b[1;31mOperationalError\u001b[0m                          Traceback (most recent call last)",
      "\u001b[1;32mc:\\Users\\l\\individual-ivwangYW\\5100CS_Group_Final_Project_Expense-AI\\database_SQLite.ipynb Cell 11\u001b[0m line \u001b[0;36m2\n\u001b[0;32m      <a href='vscode-notebook-cell:/c%3A/Users/l/individual-ivwangYW/5100CS_Group_Final_Project_Expense-AI/database_SQLite.ipynb#X24sZmlsZQ%3D%3D?line=0'>1</a>\u001b[0m \u001b[39m# Insert data into Employees table\u001b[39;00m\n\u001b[1;32m----> <a href='vscode-notebook-cell:/c%3A/Users/l/individual-ivwangYW/5100CS_Group_Final_Project_Expense-AI/database_SQLite.ipynb#X24sZmlsZQ%3D%3D?line=1'>2</a>\u001b[0m dbcon\u001b[39m.\u001b[39;49mexecute(\u001b[39m'''\u001b[39;49m\n\u001b[0;32m      <a href='vscode-notebook-cell:/c%3A/Users/l/individual-ivwangYW/5100CS_Group_Final_Project_Expense-AI/database_SQLite.ipynb#X24sZmlsZQ%3D%3D?line=2'>3</a>\u001b[0m \u001b[39m    INSERT INTO Employees (EmployeeID, EmployeeName, EmployeeDepartment)\u001b[39;49m\n\u001b[0;32m      <a href='vscode-notebook-cell:/c%3A/Users/l/individual-ivwangYW/5100CS_Group_Final_Project_Expense-AI/database_SQLite.ipynb#X24sZmlsZQ%3D%3D?line=3'>4</a>\u001b[0m \u001b[39m    VALUES (\u001b[39;49m\u001b[39m'\u001b[39;49m\u001b[39mE000001\u001b[39;49m\u001b[39m'\u001b[39;49m\u001b[39m, \u001b[39;49m\u001b[39m'\u001b[39;49m\u001b[39mJohn Doe\u001b[39;49m\u001b[39m'\u001b[39;49m\u001b[39m, \u001b[39;49m\u001b[39m'\u001b[39;49m\u001b[39mFinance\u001b[39;49m\u001b[39m'\u001b[39;49m\u001b[39m),\u001b[39;49m\n\u001b[0;32m      <a href='vscode-notebook-cell:/c%3A/Users/l/individual-ivwangYW/5100CS_Group_Final_Project_Expense-AI/database_SQLite.ipynb#X24sZmlsZQ%3D%3D?line=4'>5</a>\u001b[0m \u001b[39m           (\u001b[39;49m\u001b[39m'\u001b[39;49m\u001b[39mE000002\u001b[39;49m\u001b[39m'\u001b[39;49m\u001b[39m, \u001b[39;49m\u001b[39m'\u001b[39;49m\u001b[39mJane Smith\u001b[39;49m\u001b[39m'\u001b[39;49m\u001b[39m, \u001b[39;49m\u001b[39m'\u001b[39;49m\u001b[39mMarketing\u001b[39;49m\u001b[39m'\u001b[39;49m\u001b[39m),\u001b[39;49m\n\u001b[0;32m      <a href='vscode-notebook-cell:/c%3A/Users/l/individual-ivwangYW/5100CS_Group_Final_Project_Expense-AI/database_SQLite.ipynb#X24sZmlsZQ%3D%3D?line=5'>6</a>\u001b[0m \u001b[39m           (\u001b[39;49m\u001b[39m'\u001b[39;49m\u001b[39mE000003\u001b[39;49m\u001b[39m'\u001b[39;49m\u001b[39m, \u001b[39;49m\u001b[39m'\u001b[39;49m\u001b[39mElla Zhang\u001b[39;49m\u001b[39m'\u001b[39;49m\u001b[39m, \u001b[39;49m\u001b[39m'\u001b[39;49m\u001b[39mProduction\u001b[39;49m\u001b[39m'\u001b[39;49m\u001b[39m), \u001b[39;49m\n\u001b[0;32m      <a href='vscode-notebook-cell:/c%3A/Users/l/individual-ivwangYW/5100CS_Group_Final_Project_Expense-AI/database_SQLite.ipynb#X24sZmlsZQ%3D%3D?line=6'>7</a>\u001b[0m \u001b[39m           (\u001b[39;49m\u001b[39m'\u001b[39;49m\u001b[39mE000004\u001b[39;49m\u001b[39m'\u001b[39;49m\u001b[39m, \u001b[39;49m\u001b[39m'\u001b[39;49m\u001b[39mJulia Wu\u001b[39;49m\u001b[39m'\u001b[39;49m\u001b[39m,\u001b[39;49m\u001b[39m'\u001b[39;49m\u001b[39mMarketing\u001b[39;49m\u001b[39m'\u001b[39;49m\u001b[39m), \u001b[39;49m\n\u001b[0;32m      <a href='vscode-notebook-cell:/c%3A/Users/l/individual-ivwangYW/5100CS_Group_Final_Project_Expense-AI/database_SQLite.ipynb#X24sZmlsZQ%3D%3D?line=7'>8</a>\u001b[0m \u001b[39m           (\u001b[39;49m\u001b[39m'\u001b[39;49m\u001b[39mE000005\u001b[39;49m\u001b[39m'\u001b[39;49m\u001b[39m, \u001b[39;49m\u001b[39m'\u001b[39;49m\u001b[39mMil Huang\u001b[39;49m\u001b[39m'\u001b[39;49m\u001b[39m, \u001b[39;49m\u001b[39m'\u001b[39;49m\u001b[39mFinance\u001b[39;49m\u001b[39m'\u001b[39;49m\u001b[39m), \u001b[39;49m\n\u001b[0;32m      <a href='vscode-notebook-cell:/c%3A/Users/l/individual-ivwangYW/5100CS_Group_Final_Project_Expense-AI/database_SQLite.ipynb#X24sZmlsZQ%3D%3D?line=8'>9</a>\u001b[0m \u001b[39m           (\u001b[39;49m\u001b[39m'\u001b[39;49m\u001b[39mE000006\u001b[39;49m\u001b[39m'\u001b[39;49m\u001b[39m, \u001b[39;49m\u001b[39m'\u001b[39;49m\u001b[39mAlex Wang\u001b[39;49m\u001b[39m'\u001b[39;49m\u001b[39m, \u001b[39;49m\u001b[39m'\u001b[39;49m\u001b[39mOperation\u001b[39;49m\u001b[39m'\u001b[39;49m\u001b[39m), \u001b[39;49m\n\u001b[0;32m     <a href='vscode-notebook-cell:/c%3A/Users/l/individual-ivwangYW/5100CS_Group_Final_Project_Expense-AI/database_SQLite.ipynb#X24sZmlsZQ%3D%3D?line=9'>10</a>\u001b[0m \u001b[39m           (\u001b[39;49m\u001b[39m'\u001b[39;49m\u001b[39mE000007\u001b[39;49m\u001b[39m'\u001b[39;49m\u001b[39m, \u001b[39;49m\u001b[39m'\u001b[39;49m\u001b[39mLily Zhang\u001b[39;49m\u001b[39m'\u001b[39;49m\u001b[39m, \u001b[39;49m\u001b[39m'\u001b[39;49m\u001b[39mOperation\u001b[39;49m\u001b[39m'\u001b[39;49m\u001b[39m), \u001b[39;49m\n\u001b[0;32m     <a href='vscode-notebook-cell:/c%3A/Users/l/individual-ivwangYW/5100CS_Group_Final_Project_Expense-AI/database_SQLite.ipynb#X24sZmlsZQ%3D%3D?line=10'>11</a>\u001b[0m \u001b[39m           (\u001b[39;49m\u001b[39m'\u001b[39;49m\u001b[39mE000008\u001b[39;49m\u001b[39m'\u001b[39;49m\u001b[39m, \u001b[39;49m\u001b[39m'\u001b[39;49m\u001b[39mJenson Huang\u001b[39;49m\u001b[39m'\u001b[39;49m\u001b[39m, \u001b[39;49m\u001b[39m'\u001b[39;49m\u001b[39mAdministrative\u001b[39;49m\u001b[39m'\u001b[39;49m\u001b[39m), \u001b[39;49m\n\u001b[0;32m     <a href='vscode-notebook-cell:/c%3A/Users/l/individual-ivwangYW/5100CS_Group_Final_Project_Expense-AI/database_SQLite.ipynb#X24sZmlsZQ%3D%3D?line=11'>12</a>\u001b[0m \u001b[39m           (\u001b[39;49m\u001b[39m'\u001b[39;49m\u001b[39mE000009\u001b[39;49m\u001b[39m'\u001b[39;49m\u001b[39m, \u001b[39;49m\u001b[39m'\u001b[39;49m\u001b[39mAlexander McQueen\u001b[39;49m\u001b[39m'\u001b[39;49m\u001b[39m, Administrative\u001b[39;49m\u001b[39m'\u001b[39;49m\u001b[39m), \u001b[39;49m\n\u001b[0;32m     <a href='vscode-notebook-cell:/c%3A/Users/l/individual-ivwangYW/5100CS_Group_Final_Project_Expense-AI/database_SQLite.ipynb#X24sZmlsZQ%3D%3D?line=12'>13</a>\u001b[0m \u001b[39m           (\u001b[39;49m\u001b[39m'\u001b[39;49m\u001b[39mE000010\u001b[39;49m\u001b[39m'\u001b[39;49m\u001b[39m, \u001b[39;49m\u001b[39m'\u001b[39;49m\u001b[39mJudy Levin\u001b[39;49m\u001b[39m'\u001b[39;49m\u001b[39m, \u001b[39;49m\u001b[39m'\u001b[39;49m\u001b[39mMarketing\u001b[39;49m\u001b[39m'\u001b[39;49m\u001b[39m), \u001b[39;49m\n\u001b[0;32m     <a href='vscode-notebook-cell:/c%3A/Users/l/individual-ivwangYW/5100CS_Group_Final_Project_Expense-AI/database_SQLite.ipynb#X24sZmlsZQ%3D%3D?line=13'>14</a>\u001b[0m \u001b[39m           (\u001b[39;49m\u001b[39m'\u001b[39;49m\u001b[39mE000011\u001b[39;49m\u001b[39m'\u001b[39;49m\u001b[39m, \u001b[39;49m\u001b[39m'\u001b[39;49m\u001b[39mColin Wu\u001b[39;49m\u001b[39m'\u001b[39;49m\u001b[39m, \u001b[39;49m\u001b[39m'\u001b[39;49m\u001b[39mMarketing\u001b[39;49m\u001b[39m'\u001b[39;49m\u001b[39m), \u001b[39;49m\n\u001b[0;32m     <a href='vscode-notebook-cell:/c%3A/Users/l/individual-ivwangYW/5100CS_Group_Final_Project_Expense-AI/database_SQLite.ipynb#X24sZmlsZQ%3D%3D?line=14'>15</a>\u001b[0m \u001b[39m           (\u001b[39;49m\u001b[39m'\u001b[39;49m\u001b[39mE000012\u001b[39;49m\u001b[39m'\u001b[39;49m\u001b[39m, \u001b[39;49m\u001b[39m'\u001b[39;49m\u001b[39mJimmy Choo\u001b[39;49m\u001b[39m'\u001b[39;49m\u001b[39m, \u001b[39;49m\u001b[39m'\u001b[39;49m\u001b[39mMarketing\u001b[39;49m\u001b[39m'\u001b[39;49m\u001b[39m),\u001b[39;49m\n\u001b[0;32m     <a href='vscode-notebook-cell:/c%3A/Users/l/individual-ivwangYW/5100CS_Group_Final_Project_Expense-AI/database_SQLite.ipynb#X24sZmlsZQ%3D%3D?line=15'>16</a>\u001b[0m \u001b[39m           (\u001b[39;49m\u001b[39m'\u001b[39;49m\u001b[39mE000013\u001b[39;49m\u001b[39m'\u001b[39;49m\u001b[39m, \u001b[39;49m\u001b[39m'\u001b[39;49m\u001b[39mClair Wu\u001b[39;49m\u001b[39m'\u001b[39;49m\u001b[39m, \u001b[39;49m\u001b[39m'\u001b[39;49m\u001b[39mMarketing\u001b[39;49m\u001b[39m'\u001b[39;49m\u001b[39m), \u001b[39;49m\n\u001b[0;32m     <a href='vscode-notebook-cell:/c%3A/Users/l/individual-ivwangYW/5100CS_Group_Final_Project_Expense-AI/database_SQLite.ipynb#X24sZmlsZQ%3D%3D?line=16'>17</a>\u001b[0m \u001b[39m           (\u001b[39;49m\u001b[39m'\u001b[39;49m\u001b[39mE000014\u001b[39;49m\u001b[39m'\u001b[39;49m\u001b[39m, \u001b[39;49m\u001b[39m'\u001b[39;49m\u001b[39mJames Taylor\u001b[39;49m\u001b[39m'\u001b[39;49m\u001b[39m, \u001b[39;49m\u001b[39m'\u001b[39;49m\u001b[39mFinance\u001b[39;49m\u001b[39m'\u001b[39;49m\u001b[39m), \u001b[39;49m\n\u001b[0;32m     <a href='vscode-notebook-cell:/c%3A/Users/l/individual-ivwangYW/5100CS_Group_Final_Project_Expense-AI/database_SQLite.ipynb#X24sZmlsZQ%3D%3D?line=17'>18</a>\u001b[0m \u001b[39m           (\u001b[39;49m\u001b[39m'\u001b[39;49m\u001b[39mE000015\u001b[39;49m\u001b[39m'\u001b[39;49m\u001b[39m, \u001b[39;49m\u001b[39m'\u001b[39;49m\u001b[39mTaylor Swift\u001b[39;49m\u001b[39m'\u001b[39;49m\u001b[39m, \u001b[39;49m\u001b[39m'\u001b[39;49m\u001b[39mProduction\u001b[39;49m\u001b[39m'\u001b[39;49m\u001b[39m), \u001b[39;49m\n\u001b[0;32m     <a href='vscode-notebook-cell:/c%3A/Users/l/individual-ivwangYW/5100CS_Group_Final_Project_Expense-AI/database_SQLite.ipynb#X24sZmlsZQ%3D%3D?line=18'>19</a>\u001b[0m \u001b[39m           (\u001b[39;49m\u001b[39m'\u001b[39;49m\u001b[39mE000016\u001b[39;49m\u001b[39m'\u001b[39;49m\u001b[39m, \u001b[39;49m\u001b[39m'\u001b[39;49m\u001b[39mObama Barack\u001b[39;49m\u001b[39m'\u001b[39;49m\u001b[39m, \u001b[39;49m\u001b[39m'\u001b[39;49m\u001b[39mDesign\u001b[39;49m\u001b[39m'\u001b[39;49m\u001b[39m), \u001b[39;49m\n\u001b[0;32m     <a href='vscode-notebook-cell:/c%3A/Users/l/individual-ivwangYW/5100CS_Group_Final_Project_Expense-AI/database_SQLite.ipynb#X24sZmlsZQ%3D%3D?line=19'>20</a>\u001b[0m \u001b[39m           (\u001b[39;49m\u001b[39m'\u001b[39;49m\u001b[39mE000017\u001b[39;49m\u001b[39m'\u001b[39;49m\u001b[39m, \u001b[39;49m\u001b[39m'\u001b[39;49m\u001b[39mClara Zhang\u001b[39;49m\u001b[39m'\u001b[39;49m\u001b[39m, \u001b[39;49m\u001b[39m'\u001b[39;49m\u001b[39mDesign\u001b[39;49m\u001b[39m'\u001b[39;49m\u001b[39m), \u001b[39;49m\n\u001b[0;32m     <a href='vscode-notebook-cell:/c%3A/Users/l/individual-ivwangYW/5100CS_Group_Final_Project_Expense-AI/database_SQLite.ipynb#X24sZmlsZQ%3D%3D?line=20'>21</a>\u001b[0m \u001b[39m           (\u001b[39;49m\u001b[39m'\u001b[39;49m\u001b[39mE000018\u001b[39;49m\u001b[39m'\u001b[39;49m\u001b[39m, \u001b[39;49m\u001b[39m'\u001b[39;49m\u001b[39mJenny Xie\u001b[39;49m\u001b[39m'\u001b[39;49m\u001b[39m, \u001b[39;49m\u001b[39m'\u001b[39;49m\u001b[39mDesign\u001b[39;49m\u001b[39m'\u001b[39;49m\u001b[39m), \u001b[39;49m\n\u001b[0;32m     <a href='vscode-notebook-cell:/c%3A/Users/l/individual-ivwangYW/5100CS_Group_Final_Project_Expense-AI/database_SQLite.ipynb#X24sZmlsZQ%3D%3D?line=21'>22</a>\u001b[0m \u001b[39m           (\u001b[39;49m\u001b[39m'\u001b[39;49m\u001b[39mE000019\u001b[39;49m\u001b[39m'\u001b[39;49m\u001b[39m, \u001b[39;49m\u001b[39m'\u001b[39;49m\u001b[39mMcdonald Trump\u001b[39;49m\u001b[39m'\u001b[39;49m\u001b[39m, \u001b[39;49m\u001b[39m'\u001b[39;49m\u001b[39mAccounting\u001b[39;49m\u001b[39m'\u001b[39;49m\u001b[39m),\u001b[39;49m\n\u001b[0;32m     <a href='vscode-notebook-cell:/c%3A/Users/l/individual-ivwangYW/5100CS_Group_Final_Project_Expense-AI/database_SQLite.ipynb#X24sZmlsZQ%3D%3D?line=22'>23</a>\u001b[0m \u001b[39m           (\u001b[39;49m\u001b[39m'\u001b[39;49m\u001b[39mE000020\u001b[39;49m\u001b[39m'\u001b[39;49m\u001b[39m, \u001b[39;49m\u001b[39m'\u001b[39;49m\u001b[39mIvy Wang\u001b[39;49m\u001b[39m'\u001b[39;49m\u001b[39m, \u001b[39;49m\u001b[39m'\u001b[39;49m\u001b[39mAccounting\u001b[39;49m\u001b[39m'\u001b[39;49m\u001b[39m)\u001b[39;49m\n\u001b[0;32m     <a href='vscode-notebook-cell:/c%3A/Users/l/individual-ivwangYW/5100CS_Group_Final_Project_Expense-AI/database_SQLite.ipynb#X24sZmlsZQ%3D%3D?line=23'>24</a>\u001b[0m \u001b[39m           \u001b[39;49m\n\u001b[0;32m     <a href='vscode-notebook-cell:/c%3A/Users/l/individual-ivwangYW/5100CS_Group_Final_Project_Expense-AI/database_SQLite.ipynb#X24sZmlsZQ%3D%3D?line=24'>25</a>\u001b[0m \u001b[39m    \u001b[39;49m\n\u001b[0;32m     <a href='vscode-notebook-cell:/c%3A/Users/l/individual-ivwangYW/5100CS_Group_Final_Project_Expense-AI/database_SQLite.ipynb#X24sZmlsZQ%3D%3D?line=25'>26</a>\u001b[0m \u001b[39m'''\u001b[39;49m)\n",
      "\u001b[1;31mOperationalError\u001b[0m: near \"'), \n           ('\": syntax error"
     ]
    }
   ],
   "source": [
    "\n",
    "\n",
    "# Insert data into Employees table\n",
    "dbcon.execute('''\n",
    "    INSERT INTO Employees (EmployeeID, EmployeeName, EmployeeDepartment)\n",
    "    VALUES ('E000001', 'John Doe', 'Finance'),\n",
    "           ('E000002', 'Jane Smith', 'Marketing'),\n",
    "           ('E000003', 'Ella Zhang', 'Production'), \n",
    "           ('E000004', 'Julia Wu','Marketing'), \n",
    "           ('E000005', 'Mil Huang', 'Finance'), \n",
    "           ('E000006', 'Alex Wang', 'Operation'), \n",
    "           ('E000007', 'Lily Zhang', 'Operation'), \n",
    "           ('E000008', 'Jenson Huang', 'Administrative'), \n",
    "           ('E000009', 'Alexander McQueen', Administrative'), \n",
    "           ('E000010', 'Judy Levin', 'Marketing'), \n",
    "           ('E000011', 'Colin Wu', 'Marketing'), \n",
    "           ('E000012', 'Jimmy Choo', 'Marketing'),\n",
    "           ('E000013', 'Clair Wu', 'Marketing'), \n",
    "           ('E000014', 'James Taylor', 'Finance'), \n",
    "           ('E000015', 'Taylor Swift', 'Production'), \n",
    "           ('E000016', 'Obama Barack', 'Design'), \n",
    "           ('E000017', 'Clara Zhang', 'Design'), \n",
    "           ('E000018', 'Jenny Xie', 'Design'), \n",
    "           ('E000019', 'Mcdonald Trump', 'Accounting'),\n",
    "           ('E000020', 'Ivy Wang', 'Accounting')\n",
    "           \n",
    "    \n",
    "''')"
   ]
  },
  {
   "cell_type": "code",
   "execution_count": 78,
   "metadata": {},
   "outputs": [
    {
     "data": {
      "text/plain": [
       "<function Cursor.close()>"
      ]
     },
     "execution_count": 78,
     "metadata": {},
     "output_type": "execute_result"
    }
   ],
   "source": [
    "dbcon.close"
   ]
  },
  {
   "cell_type": "code",
   "execution_count": null,
   "metadata": {},
   "outputs": [
    {
     "data": {
      "text/plain": [
       "<sqlite3.Cursor at 0x162f9732cc0>"
      ]
     },
     "execution_count": 73,
     "metadata": {},
     "output_type": "execute_result"
    }
   ],
   "source": [
    "dbcon.execute(f'DELETE FROM ReimbursementRequestRecords')"
   ]
  },
  {
   "cell_type": "code",
   "execution_count": null,
   "metadata": {},
   "outputs": [],
   "source": [
    "# Insert data into Projects table\n",
    "dbcon.execute('''\n",
    "    INSERT INTO Projects (ProjectID, ProjectName, ProjectDuration_startDate, ProjectDuration_endDate, ProjectBudget)\n",
    "    VALUES ('P001', 'Project A', '2023-01-01', '2023-12-31', 100000.00),\n",
    "           ('P002', 'Project B', '2023-02-01', '2023-11-30', 75000.00),\n",
    "    -- Add more rows as needed\n",
    "''')\n",
    "\n",
    "# Commit the changes\n",
    "dbcon.commit()"
   ]
  }
 ],
 "metadata": {
  "kernelspec": {
   "display_name": "Python 3",
   "language": "python",
   "name": "python3"
  },
  "language_info": {
   "codemirror_mode": {
    "name": "ipython",
    "version": 3
   },
   "file_extension": ".py",
   "mimetype": "text/x-python",
   "name": "python",
   "nbconvert_exporter": "python",
   "pygments_lexer": "ipython3",
   "version": "3.11.6"
  }
 },
 "nbformat": 4,
 "nbformat_minor": 2
}
