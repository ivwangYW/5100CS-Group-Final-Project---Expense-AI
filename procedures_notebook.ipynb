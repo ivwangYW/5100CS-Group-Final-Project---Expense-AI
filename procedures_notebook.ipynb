{
  "cells": [
    {
      "cell_type": "markdown",
      "id": "d0a12e30-b72a-4b6b-8668-8c4bba82f98d",
      "metadata": {},
      "source": [
        "# Project Procedure #\n",
        "\n",
        "#### Original Source File: ####\n",
        "<br> **Source data contributed from:** Using ChatGPT to randomly generate a list of texts containing one single column. Each raw of text contains two part - on the left is the invoice text, and on the right is each invoice's corresponding expense category as the label.\n",
        "<br> (Placeholder) **ChatGPT Data Query Command:**  The command we used to query the random samples of the text can be provided later as the quality of data continues to be improved.\n",
        "<br>\n",
        "\n",
        "The original source file is an csv worksheet with a list of the text similar to this one:\n"
      ]
    },
    {
      "cell_type": "raw",
      "id": "44afbed2-06a8-4f2a-bbd6-5b38e9f9e5eb",
      "metadata": {},
      "source": [
        "“The first ABC Corp - Date: 2023-01-05 - Vendor: ABC Corporation - Invoice Number: INV001 - Items/Services: Round-trip Flight to New York, Hotel Accommodation (4 nights), Meals (Per Diem), Transportation (Taxi, Subway) - Total Amount: $2,500.00 - Contact: John Doe, johndoe@email.com - Bill-To: XYZ Inc - Payment Due Date: 2023-01-20, Travel\" "
      ]
    },
    {
      "cell_type": "markdown",
      "id": "10305f31-7032-4b99-b535-9a4203d4fbf0",
      "metadata": {},
      "source": [
        "separate the text into two columns (One column is the **text** of invoice, the other is the the corresponding expense category **label** by using Python library like pandas to read the Excel file and perform the separation. "
      ]
    },
    {
      "cell_type": "code",
      "execution_count": null,
      "id": "4040cbcc-09f0-4eb9-80d6-12ce60d1e127",
      "metadata": {
        "trusted": true
      },
      "outputs": [],
      "source": [
        "!pip install --upgrade pip\n",
        "#install the pandas library\n",
        "!pip install pandas"
      ]
    },
    {
      "cell_type": "code",
      "execution_count": null,
      "id": "418af0a7-4035-4e23-907d-d4531ee79220",
      "metadata": {
        "trusted": true
      },
      "outputs": [],
      "source": [
        "import pandas as pd\n"
      ]
    },
    {
      "cell_type": "code",
      "execution_count": null,
      "id": "b0643de0-7d0f-4f09-a7ff-463169b3446b",
      "metadata": {
        "trusted": true
      },
      "outputs": [],
      "source": [
        "\n",
        "# Load the Excel file into a DataFrame and skip the header row\n",
        "df = pd.read_csv('dataset.csv')\n",
        "\n",
        "# Split the 'Source Data'column into 'Text of Invoice' and 'Expense Category' columns.  Using the ',' in the dataset as the separater, and split column into two from right to left for one time using rsplit.\n",
        "df[['Text of Invoice', 'Expense Category']] = df['Source Data'].str.rsplit(\",\", expand=True, n=1)\n",
        "\n",
        "# Create a list of tuples representing your dataset\n",
        "dataset = [(row['Text of Invoice'], row['Expense Category']) for _, row in df.iterrows()]"
      ]
    },
    {
      "cell_type": "markdown",
      "metadata": {},
      "source": [
        "#### Data Processing ####\n",
        "<br> **Install NLTK package:** \n",
        "Following this link to install nltk package for Windows:\n",
        "<br> For Windows: https://www.youtube.com/watch?v=SAp9niC4l3Q\n",
        "<br> For Mac:    https://www.nltk.org/install.html\n",
        "\n",
        "<br> In the terminal, type the following command to install nltk package:"
      ]
    },
    {
      "cell_type": "code",
      "execution_count": 1,
      "metadata": {},
      "outputs": [
        {
          "name": "stdout",
          "output_type": "stream",
          "text": [
            "Collecting nltk\n",
            "  Downloading nltk-3.8.1-py3-none-any.whl (1.5 MB)\n",
            "                                              0.0/1.5 MB ? eta -:--:--\n",
            "     -----                                    0.2/1.5 MB 5.9 MB/s eta 0:00:01\n",
            "     -------------                            0.5/1.5 MB 6.4 MB/s eta 0:00:01\n",
            "     --------------------------               1.0/1.5 MB 7.9 MB/s eta 0:00:01\n",
            "     --------------------------------------   1.5/1.5 MB 9.3 MB/s eta 0:00:01\n",
            "     ---------------------------------------- 1.5/1.5 MB 8.0 MB/s eta 0:00:00\n",
            "Collecting click (from nltk)\n",
            "  Downloading click-8.1.7-py3-none-any.whl (97 kB)\n",
            "                                              0.0/97.9 kB ? eta -:--:--\n",
            "     ---------------------------------------- 97.9/97.9 kB 5.8 MB/s eta 0:00:00\n",
            "Collecting joblib (from nltk)\n",
            "  Downloading joblib-1.3.2-py3-none-any.whl (302 kB)\n",
            "                                              0.0/302.2 kB ? eta -:--:--\n",
            "     -------------------------------------- 302.2/302.2 kB 9.4 MB/s eta 0:00:00\n",
            "Collecting regex>=2021.8.3 (from nltk)\n",
            "  Downloading regex-2023.10.3-cp311-cp311-win_amd64.whl (269 kB)\n",
            "                                              0.0/269.6 kB ? eta -:--:--\n",
            "     ------------------------------------- 269.6/269.6 kB 16.2 MB/s eta 0:00:00\n",
            "Collecting tqdm (from nltk)\n",
            "  Using cached tqdm-4.66.1-py3-none-any.whl (78 kB)\n",
            "Requirement already satisfied: colorama in c:\\users\\l\\appdata\\local\\packages\\pythonsoftwarefoundation.python.3.11_qbz5n2kfra8p0\\localcache\\local-packages\\python311\\site-packages (from click->nltk) (0.4.6)\n",
            "Installing collected packages: tqdm, regex, joblib, click, nltk\n",
            "Successfully installed click-8.1.7 joblib-1.3.2 nltk-3.8.1 regex-2023.10.3 tqdm-4.66.1\n"
          ]
        },
        {
          "name": "stderr",
          "output_type": "stream",
          "text": [
            "\n",
            "[notice] A new release of pip is available: 23.1.2 -> 23.3.1\n",
            "[notice] To update, run: C:\\Users\\l\\AppData\\Local\\Microsoft\\WindowsApps\\PythonSoftwareFoundation.Python.3.11_qbz5n2kfra8p0\\python.exe -m pip install --upgrade pip\n"
          ]
        }
      ],
      "source": [
        "!pip install nltk"
      ]
    },
    {
      "cell_type": "code",
      "execution_count": 2,
      "metadata": {},
      "outputs": [],
      "source": [
        "import nltk\n",
        "import os"
      ]
    },
    {
      "cell_type": "markdown",
      "metadata": {},
      "source": [
        "\n",
        "**Label Encoding**\n",
        "<br> performing label encoding on the 'Expense Category' column of the\n",
        "\tDataFrame to convert categorical labels (strings or other non-numeric types) into numerical values, as the machine learning algorithms expects input data to be in numerical form.\n"
      ]
    },
    {
      "cell_type": "code",
      "execution_count": 3,
      "metadata": {},
      "outputs": [
        {
          "name": "stdout",
          "output_type": "stream",
          "text": [
            "Collecting scikit-learn\n",
            "  Downloading scikit_learn-1.3.2-cp311-cp311-win_amd64.whl (9.2 MB)\n",
            "                                              0.0/9.2 MB ? eta -:--:--\n",
            "                                              0.0/9.2 MB ? eta -:--:--\n",
            "                                              0.0/9.2 MB ? eta -:--:--\n",
            "                                              0.0/9.2 MB ? eta -:--:--\n",
            "                                              0.0/9.2 MB 220.2 kB/s eta 0:00:42\n",
            "                                              0.0/9.2 MB 219.4 kB/s eta 0:00:42\n",
            "                                              0.2/9.2 MB 958.4 kB/s eta 0:00:10\n",
            "     --                                       0.7/9.2 MB 2.6 MB/s eta 0:00:04\n",
            "     ----                                     1.1/9.2 MB 3.8 MB/s eta 0:00:03\n",
            "     ---------                                2.1/9.2 MB 6.1 MB/s eta 0:00:02\n",
            "     ------------                             2.8/9.2 MB 7.1 MB/s eta 0:00:01\n",
            "     ---------------                          3.5/9.2 MB 7.9 MB/s eta 0:00:01\n",
            "     -----------------                        4.1/9.2 MB 8.4 MB/s eta 0:00:01\n",
            "     --------------------                     4.8/9.2 MB 9.0 MB/s eta 0:00:01\n",
            "     -----------------------                  5.5/9.2 MB 9.5 MB/s eta 0:00:01\n",
            "     --------------------------               6.2/9.2 MB 9.9 MB/s eta 0:00:01\n",
            "     -----------------------------            6.9/9.2 MB 10.2 MB/s eta 0:00:01\n",
            "     --------------------------------         7.6/9.2 MB 10.5 MB/s eta 0:00:01\n",
            "     -----------------------------------      8.3/9.2 MB 10.8 MB/s eta 0:00:01\n",
            "     ---------------------------------------  9.0/9.2 MB 11.1 MB/s eta 0:00:01\n",
            "     ---------------------------------------  9.2/9.2 MB 11.1 MB/s eta 0:00:01\n",
            "     ---------------------------------------- 9.2/9.2 MB 10.3 MB/s eta 0:00:00\n",
            "Collecting numpy<2.0,>=1.17.3 (from scikit-learn)\n",
            "  Downloading numpy-1.26.1-cp311-cp311-win_amd64.whl (15.8 MB)\n",
            "                                              0.0/15.8 MB ? eta -:--:--\n",
            "     -                                        0.6/15.8 MB 20.1 MB/s eta 0:00:01\n",
            "     ---                                      1.3/15.8 MB 16.9 MB/s eta 0:00:01\n",
            "     -----                                    2.0/15.8 MB 16.1 MB/s eta 0:00:01\n",
            "     ------                                   2.7/15.8 MB 15.8 MB/s eta 0:00:01\n",
            "     --------                                 3.4/15.8 MB 15.6 MB/s eta 0:00:01\n",
            "     ----------                               4.1/15.8 MB 15.4 MB/s eta 0:00:01\n",
            "     ------------                             4.8/15.8 MB 15.3 MB/s eta 0:00:01\n",
            "     -------------                            5.4/15.8 MB 15.1 MB/s eta 0:00:01\n",
            "     ---------------                          6.2/15.8 MB 15.2 MB/s eta 0:00:01\n",
            "     -----------------                        6.9/15.8 MB 15.2 MB/s eta 0:00:01\n",
            "     -------------------                      7.6/15.8 MB 15.1 MB/s eta 0:00:01\n",
            "     --------------------                     8.2/15.8 MB 15.4 MB/s eta 0:00:01\n",
            "     ----------------------                   9.0/15.8 MB 15.1 MB/s eta 0:00:01\n",
            "     ------------------------                 9.7/15.8 MB 15.1 MB/s eta 0:00:01\n",
            "     -------------------------               10.4/15.8 MB 14.9 MB/s eta 0:00:01\n",
            "     ---------------------------             11.1/15.8 MB 15.2 MB/s eta 0:00:01\n",
            "     -----------------------------           11.8/15.8 MB 15.2 MB/s eta 0:00:01\n",
            "     ------------------------------          12.5/15.8 MB 15.2 MB/s eta 0:00:01\n",
            "     --------------------------------        13.2/15.8 MB 15.2 MB/s eta 0:00:01\n",
            "     ----------------------------------      13.9/15.8 MB 15.2 MB/s eta 0:00:01\n",
            "     -----------------------------------     14.6/15.8 MB 15.2 MB/s eta 0:00:01\n",
            "     -------------------------------------   15.3/15.8 MB 15.2 MB/s eta 0:00:01\n",
            "     --------------------------------------  15.8/15.8 MB 15.6 MB/s eta 0:00:01\n",
            "     --------------------------------------  15.8/15.8 MB 15.6 MB/s eta 0:00:01\n",
            "     --------------------------------------- 15.8/15.8 MB 13.4 MB/s eta 0:00:00\n",
            "Collecting scipy>=1.5.0 (from scikit-learn)\n",
            "  Downloading scipy-1.11.3-cp311-cp311-win_amd64.whl (44.1 MB)\n",
            "                                              0.0/44.1 MB ? eta -:--:--\n",
            "                                              0.8/44.1 MB 25.4 MB/s eta 0:00:02\n",
            "     -                                        1.5/44.1 MB 19.3 MB/s eta 0:00:03\n",
            "     --                                       2.2/44.1 MB 17.7 MB/s eta 0:00:03\n",
            "     --                                       2.9/44.1 MB 16.8 MB/s eta 0:00:03\n",
            "     ---                                      3.6/44.1 MB 16.4 MB/s eta 0:00:03\n",
            "     ---                                      4.3/44.1 MB 16.2 MB/s eta 0:00:03\n",
            "     ----                                     4.8/44.1 MB 15.5 MB/s eta 0:00:03\n",
            "     -----                                    5.6/44.1 MB 15.5 MB/s eta 0:00:03\n",
            "     -----                                    6.2/44.1 MB 15.4 MB/s eta 0:00:03\n",
            "     ------                                   7.0/44.1 MB 15.3 MB/s eta 0:00:03\n",
            "     ------                                   7.7/44.1 MB 15.3 MB/s eta 0:00:03\n",
            "     -------                                  8.5/44.1 MB 15.6 MB/s eta 0:00:03\n",
            "     --------                                 9.2/44.1 MB 15.5 MB/s eta 0:00:03\n",
            "     --------                                 9.9/44.1 MB 15.5 MB/s eta 0:00:03\n",
            "     ---------                               10.6/44.1 MB 14.9 MB/s eta 0:00:03\n",
            "     ----------                              11.7/44.1 MB 14.9 MB/s eta 0:00:03\n",
            "     -----------                             12.8/44.1 MB 14.9 MB/s eta 0:00:03\n",
            "     -----------                             13.5/44.1 MB 14.9 MB/s eta 0:00:03\n",
            "     ------------                            14.3/44.1 MB 14.9 MB/s eta 0:00:03\n",
            "     -------------                           15.0/44.1 MB 14.9 MB/s eta 0:00:02\n",
            "     -------------                           15.7/44.1 MB 14.5 MB/s eta 0:00:02\n",
            "     --------------                          16.8/44.1 MB 14.9 MB/s eta 0:00:02\n",
            "     ---------------                         17.5/44.1 MB 14.9 MB/s eta 0:00:02\n",
            "     ----------------                        18.1/44.1 MB 14.9 MB/s eta 0:00:02\n",
            "     ----------------                        18.9/44.1 MB 14.9 MB/s eta 0:00:02\n",
            "     -----------------                       19.6/44.1 MB 15.2 MB/s eta 0:00:02\n",
            "     -----------------                       20.2/44.1 MB 14.9 MB/s eta 0:00:02\n",
            "     ------------------                      21.2/44.1 MB 15.2 MB/s eta 0:00:02\n",
            "     -------------------                     21.9/44.1 MB 14.9 MB/s eta 0:00:02\n",
            "     --------------------                    22.8/44.1 MB 15.2 MB/s eta 0:00:02\n",
            "     --------------------                    23.5/44.1 MB 14.9 MB/s eta 0:00:02\n",
            "     ---------------------                   24.5/44.1 MB 15.2 MB/s eta 0:00:02\n",
            "     ----------------------                  25.0/44.1 MB 14.9 MB/s eta 0:00:02\n",
            "     ----------------------                  25.7/44.1 MB 14.9 MB/s eta 0:00:02\n",
            "     -----------------------                 26.4/44.1 MB 14.9 MB/s eta 0:00:02\n",
            "     -----------------------                 26.9/44.1 MB 14.9 MB/s eta 0:00:02\n",
            "     ------------------------                27.6/44.1 MB 14.9 MB/s eta 0:00:02\n",
            "     -------------------------               28.5/44.1 MB 14.6 MB/s eta 0:00:02\n",
            "     -------------------------               29.1/44.1 MB 14.9 MB/s eta 0:00:02\n",
            "     --------------------------              29.8/44.1 MB 14.6 MB/s eta 0:00:01\n",
            "     --------------------------              30.4/44.1 MB 14.6 MB/s eta 0:00:01\n",
            "     ---------------------------             31.0/44.1 MB 14.6 MB/s eta 0:00:01\n",
            "     ---------------------------             31.7/44.1 MB 14.2 MB/s eta 0:00:01\n",
            "     ----------------------------            32.5/44.1 MB 14.2 MB/s eta 0:00:01\n",
            "     -----------------------------           33.2/44.1 MB 14.2 MB/s eta 0:00:01\n",
            "     ------------------------------          34.0/44.1 MB 14.2 MB/s eta 0:00:01\n",
            "     ------------------------------          34.6/44.1 MB 13.9 MB/s eta 0:00:01\n",
            "     -------------------------------         35.4/44.1 MB 14.2 MB/s eta 0:00:01\n",
            "     -------------------------------         36.0/44.1 MB 13.9 MB/s eta 0:00:01\n",
            "     --------------------------------        36.6/44.1 MB 13.9 MB/s eta 0:00:01\n",
            "     ---------------------------------       37.4/44.1 MB 13.9 MB/s eta 0:00:01\n",
            "     ---------------------------------       38.1/44.1 MB 13.9 MB/s eta 0:00:01\n",
            "     ----------------------------------      38.7/44.1 MB 13.9 MB/s eta 0:00:01\n",
            "     ----------------------------------      39.2/44.1 MB 13.6 MB/s eta 0:00:01\n",
            "     -----------------------------------     40.0/44.1 MB 13.6 MB/s eta 0:00:01\n",
            "     -----------------------------------     40.6/44.1 MB 13.6 MB/s eta 0:00:01\n",
            "     ------------------------------------    41.3/44.1 MB 13.9 MB/s eta 0:00:01\n",
            "     -------------------------------------   41.9/44.1 MB 13.9 MB/s eta 0:00:01\n",
            "     -------------------------------------   42.6/44.1 MB 13.9 MB/s eta 0:00:01\n",
            "     --------------------------------------  43.2/44.1 MB 13.6 MB/s eta 0:00:01\n",
            "     --------------------------------------  43.8/44.1 MB 13.9 MB/s eta 0:00:01\n",
            "     --------------------------------------  44.1/44.1 MB 13.9 MB/s eta 0:00:01\n",
            "     --------------------------------------  44.1/44.1 MB 13.9 MB/s eta 0:00:01\n",
            "     --------------------------------------  44.1/44.1 MB 13.9 MB/s eta 0:00:01\n",
            "     --------------------------------------  44.1/44.1 MB 13.9 MB/s eta 0:00:01\n",
            "     --------------------------------------  44.1/44.1 MB 13.9 MB/s eta 0:00:01\n",
            "     --------------------------------------- 44.1/44.1 MB 10.4 MB/s eta 0:00:00\n",
            "Requirement already satisfied: joblib>=1.1.1 in c:\\users\\l\\appdata\\local\\packages\\pythonsoftwarefoundation.python.3.11_qbz5n2kfra8p0\\localcache\\local-packages\\python311\\site-packages (from scikit-learn) (1.3.2)\n",
            "Collecting threadpoolctl>=2.0.0 (from scikit-learn)\n",
            "  Downloading threadpoolctl-3.2.0-py3-none-any.whl (15 kB)\n",
            "Installing collected packages: threadpoolctl, numpy, scipy, scikit-learn\n",
            "Successfully installed numpy-1.26.1 scikit-learn-1.3.2 scipy-1.11.3 threadpoolctl-3.2.0\n"
          ]
        },
        {
          "name": "stderr",
          "output_type": "stream",
          "text": [
            "\n",
            "[notice] A new release of pip is available: 23.1.2 -> 23.3.1\n",
            "[notice] To update, run: C:\\Users\\l\\AppData\\Local\\Microsoft\\WindowsApps\\PythonSoftwareFoundation.Python.3.11_qbz5n2kfra8p0\\python.exe -m pip install --upgrade pip\n"
          ]
        }
      ],
      "source": [
        "!pip install scikit-learn\n"
      ]
    },
    {
      "cell_type": "code",
      "execution_count": 7,
      "metadata": {},
      "outputs": [],
      "source": [
        "from sklearn.preprocessing import LabelEncoder\n",
        "from sklearn.model_selection import train_test_split\n",
        "from nltk.tokenize import word_tokenize"
      ]
    },
    {
      "cell_type": "code",
      "execution_count": 8,
      "metadata": {},
      "outputs": [
        {
          "ename": "NameError",
          "evalue": "name 'df' is not defined",
          "output_type": "error",
          "traceback": [
            "\u001b[1;31m---------------------------------------------------------------------------\u001b[0m",
            "\u001b[1;31mNameError\u001b[0m                                 Traceback (most recent call last)",
            "\u001b[1;32mc:\\Users\\l\\individual-ivwangYW\\5100CS_Group_Final_Project_Expense-AI\\procedures_notebook.ipynb Cell 13\u001b[0m line \u001b[0;36m3\n\u001b[0;32m      <a href='vscode-notebook-cell:/c%3A/Users/l/individual-ivwangYW/5100CS_Group_Final_Project_Expense-AI/procedures_notebook.ipynb#X22sZmlsZQ%3D%3D?line=0'>1</a>\u001b[0m le \u001b[39m=\u001b[39m LabelEncoder()\n\u001b[0;32m      <a href='vscode-notebook-cell:/c%3A/Users/l/individual-ivwangYW/5100CS_Group_Final_Project_Expense-AI/procedures_notebook.ipynb#X22sZmlsZQ%3D%3D?line=1'>2</a>\u001b[0m \u001b[39m#Fit and transform the 'Expense Category' column into numerical code.\u001b[39;00m\n\u001b[1;32m----> <a href='vscode-notebook-cell:/c%3A/Users/l/individual-ivwangYW/5100CS_Group_Final_Project_Expense-AI/procedures_notebook.ipynb#X22sZmlsZQ%3D%3D?line=2'>3</a>\u001b[0m df[\u001b[39m'\u001b[39m\u001b[39mExpense Category\u001b[39m\u001b[39m'\u001b[39m] \u001b[39m=\u001b[39m le\u001b[39m.\u001b[39mfit_transform(df[\u001b[39m'\u001b[39m\u001b[39mExpense Category\u001b[39m\u001b[39m'\u001b[39m])\n",
            "\u001b[1;31mNameError\u001b[0m: name 'df' is not defined"
          ]
        }
      ],
      "source": [
        "le = LabelEncoder()\n",
        "#Fit and transform the 'Expense Category' column into numerical code.\n",
        "df['Expense Category'] = le.fit_transform(df['Expense Category'])"
      ]
    },
    {
      "cell_type": "markdown",
      "metadata": {},
      "source": [
        "**Train-test data split:** \n",
        "<br> Split dataset into two parts - training and testing\n",
        "<br> **x_train and y_train:** <br>Unpacking dataset tuples into two separate lists - \n"
      ]
    },
    {
      "cell_type": "code",
      "execution_count": null,
      "metadata": {},
      "outputs": [],
      "source": [
        "# Split the dataset into training and testing sets\n",
        "train_set, test_set = train_test_split(dataset, test_size=0.2, random_state=None)\n",
        "#Unpacking the elements of the train_set tuple into two separate lists, X_train and y_train\n",
        "x_train, y_train = zip(*train_set)"
      ]
    },
    {
      "cell_type": "markdown",
      "metadata": {},
      "source": []
    }
  ],
  "metadata": {
    "kernelspec": {
      "display_name": "Python 3",
      "language": "python",
      "name": "python3"
    },
    "language_info": {
      "codemirror_mode": {
        "name": "ipython",
        "version": 3
      },
      "file_extension": ".py",
      "mimetype": "text/x-python",
      "name": "python",
      "nbconvert_exporter": "python",
      "pygments_lexer": "ipython3",
      "version": "3.11.6"
    }
  },
  "nbformat": 4,
  "nbformat_minor": 5
}
