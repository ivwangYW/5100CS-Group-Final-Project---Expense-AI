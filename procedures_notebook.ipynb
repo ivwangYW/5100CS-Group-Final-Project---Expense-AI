{
  "cells": [
    {
      "cell_type": "markdown",
      "id": "d0a12e30-b72a-4b6b-8668-8c4bba82f98d",
      "metadata": {},
      "source": [
        "# Project Procedure #\n",
        "\n",
        "### Original Source File: ###\n",
        "<br> **Source data contributed from:** Using ChatGPT to randomly generate a list of texts containing one single column. Each raw of text contains two part - on the left is the invoice text, and on the right is each invoice's corresponding expense category as the label.\n",
        "<br> (Placeholder) **ChatGPT Data Query Command:**  The command we used to query the random samples of the text can be provided later as the quality of data continues to be improved.\n",
        "<br>\n",
        "\n",
        "The original source file is an csv worksheet with a list of the text similar to this one:\n"
      ]
    },
    {
      "cell_type": "raw",
      "id": "44afbed2-06a8-4f2a-bbd6-5b38e9f9e5eb",
      "metadata": {},
      "source": [
        "“The first ABC Corp - Date: 2023-01-05 - Vendor: ABC Corporation - Invoice Number: INV001 - Items/Services: Round-trip Flight to New York, Hotel Accommodation (4 nights), Meals (Per Diem), Transportation (Taxi, Subway) - Total Amount: $2,500.00 - Contact: John Doe, johndoe@email.com - Bill-To: XYZ Inc - Payment Due Date: 2023-01-20, Travel\" "
      ]
    },
    {
      "cell_type": "markdown",
      "id": "10305f31-7032-4b99-b535-9a4203d4fbf0",
      "metadata": {},
      "source": [
        "separate the text into two columns (One column is the **text** of invoice, the other is the the corresponding expense category **label** by using Python library like pandas to read the Excel file and perform the separation. "
      ]
    },
    {
      "cell_type": "code",
      "execution_count": null,
      "id": "4040cbcc-09f0-4eb9-80d6-12ce60d1e127",
      "metadata": {
        "trusted": true
      },
      "outputs": [],
      "source": [
        "!pip install --upgrade pip\n",
        "#install the pandas library\n",
        "!pip install pandas"
      ]
    },
    {
      "cell_type": "code",
      "execution_count": null,
      "id": "418af0a7-4035-4e23-907d-d4531ee79220",
      "metadata": {
        "trusted": true
      },
      "outputs": [],
      "source": [
        "import pandas as pd\n"
      ]
    },
    {
      "cell_type": "code",
      "execution_count": null,
      "id": "b0643de0-7d0f-4f09-a7ff-463169b3446b",
      "metadata": {
        "trusted": true
      },
      "outputs": [],
      "source": [
        "\n",
        "# Load the Excel file into a DataFrame and skip the header row\n",
        "df = pd.read_csv('dataset.csv')\n",
        "\n",
        "# Split the 'Source Data'column into 'Text of Invoice' and 'Expense Category' columns.  Using the ',' in the dataset as the separater, and split column into two from right to left for one time using rsplit.\n",
        "df[['Text of Invoice', 'Expense Category']] = df['Source Data'].str.rsplit(\",\", expand=True, n=1)\n",
        "\n",
        "# Create a list of tuples representing your dataset\n",
        "dataset = [(row['Text of Invoice'], row['Expense Category']) for _, row in df.iterrows()]"
      ]
    },
    {
      "cell_type": "code",
      "execution_count": null,
      "id": "ea901633-1cbb-469d-9ddc-c1948568c791",
      "metadata": {},
      "outputs": [],
      "source": []
    }
  ],
  "metadata": {
    "kernelspec": {
      "display_name": "Python (Pyodide)",
      "language": "python",
      "name": "python"
    },
    "language_info": {
      "codemirror_mode": {
        "name": "python",
        "version": 3
      },
      "file_extension": ".py",
      "mimetype": "text/x-python",
      "name": "python",
      "nbconvert_exporter": "python",
      "pygments_lexer": "ipython3",
      "version": "3.8"
    }
  },
  "nbformat": 4,
  "nbformat_minor": 5
}
